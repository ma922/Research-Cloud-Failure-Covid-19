{
 "cells": [
  {
   "cell_type": "code",
   "execution_count": 348,
   "metadata": {
    "pycharm": {
     "is_executing": false
    }
   },
   "outputs": [],
   "source": [
    "import pandas as pd\n",
    "import numpy as np\n",
    "import datetime\n",
    "import re\n",
    "import string"
   ]
  },
  {
   "cell_type": "markdown",
   "metadata": {},
   "source": [
    "Set display option"
   ]
  },
  {
   "cell_type": "code",
   "execution_count": 349,
   "metadata": {
    "pycharm": {
     "is_executing": false
    }
   },
   "outputs": [],
   "source": [
    "# display full column\n",
    "pd.set_option('display.max_colwidth', None)\n",
    "\n",
    "# display option all rows # default value 50\n",
    "pd.set_option('display.max_rows', None)"
   ]
  },
  {
   "cell_type": "markdown",
   "metadata": {},
   "source": [
    "Get input for data file of which year to run (as main file)"
   ]
  },
  {
   "cell_type": "code",
   "execution_count": 350,
   "metadata": {
    "pycharm": {
     "is_executing": false
    },
    "tags": []
   },
   "outputs": [
    {
     "name": "stdout",
     "output_type": "stream",
     "text": [
      "Input is 1\n"
     ]
    }
   ],
   "source": [
    "# read all data frame\n",
    "df_2020 = pd.read_parquet('provider_failures_2020.parquet', engine='pyarrow')\n",
    "df_2019 = pd.read_parquet('provider_failures_2019.parquet', engine='pyarrow')\n",
    "df_2018 = pd.read_parquet('provider_failures_2018.parquet', engine='pyarrow')\n",
    "\n",
    "initial_df = df_2020[0:0]\n",
    "utc_time = 0\n",
    "year_name = 0\n",
    "\n",
    "g = input('Which year data should be analysed: \\n 1) 2020  2) 2019 3) 2018 . Type number example 2 for 2019' )\n",
    "\n",
    "if (g == '1'):    # 2020\n",
    "    initial_df = df_2020\n",
    "    utc_time = 1577836800\n",
    "    year_name = 2020\n",
    "\n",
    "elif (g == '2'):  # 2019\n",
    "    initial_df = df_2019\n",
    "    utc_time = 1546300800\n",
    "    year_name = 2019\n",
    "\n",
    "elif (g == '3'):  # 2018\n",
    "    initial_df = df_2018\n",
    "    utc_time = 1514764800\n",
    "    year_name = 2018\n",
    "\n",
    "print('Input is', g)\n",
    "\n",
    "# initial_df"
   ]
  },
  {
   "cell_type": "code",
   "execution_count": 351,
   "metadata": {
    "pycharm": {
     "is_executing": false
    }
   },
   "outputs": [
    {
     "name": "stdout",
     "output_type": "stream",
     "text": [
      "no_of_rows:  639\n",
      "no_of_cloumn:  12\n"
     ]
    }
   ],
   "source": [
    "no_of_rows = len(initial_df)\n",
    "print('no_of_rows: ', no_of_rows)\n",
    "\n",
    "no_of_cloumn = len(initial_df.columns)\n",
    "print('no_of_cloumn: ', no_of_cloumn)"
   ]
  },
  {
   "cell_type": "code",
   "execution_count": 352,
   "metadata": {
    "pycharm": {
     "is_executing": false
    },
    "tags": []
   },
   "outputs": [],
   "source": [
    "temp_df = initial_df\n",
    "# convert to no decimal or no scientific notation representation\n",
    "temp_df['event_start_time'] = temp_df['event_start_time'].apply(lambda x: '%.0f' % x)\n",
    "temp_df['event_end_time'] = temp_df['event_end_time'].apply(lambda x: '%.0f' % x)\n",
    "temp_df['first_notification'] = temp_df['first_notification'].apply(lambda x: '%.0f' % x)\n",
    "temp_df['last_notification'] = temp_df['last_notification'].apply(lambda x: '%.0f' % x)"
   ]
  },
  {
   "cell_type": "markdown",
   "metadata": {},
   "source": [
    "Convert different representations into single representation"
   ]
  },
  {
   "cell_type": "code",
   "execution_count": 353,
   "metadata": {
    "pycharm": {
     "is_executing": false
    },
    "tags": []
   },
   "outputs": [
    {
     "name": "stdout",
     "output_type": "stream",
     "text": [
      "Here in 2020 =  639\n",
      "Match Amazon EC2 Systems Manager or AWS Systems Manager  =  8\n",
      "Match global or Global =  19\n",
      "Match global or Global =  21\n",
      "Match global or Global =  25\n",
      "Match AWS IoT =  27\n",
      "Match global or Global =  28\n",
      "Match global or Global =  29\n",
      "Match global or Global =  30\n",
      "Match global or Global =  33\n",
      "Match global or Global =  36\n",
      "Match global or Global =  84\n",
      "Match global or Global =  85\n",
      "Match AWS IoT =  97\n",
      "Match global or Global =  101\n",
      "Match global or Global =  110\n",
      "Match global or Global =  112\n",
      "Match global or Global =  114\n",
      "Match global or Global =  116\n",
      "Match global or Global =  120\n",
      "Match global or Global =  121\n",
      "Match global or Global =  123\n",
      "Match global or Global =  129\n",
      "Match global or Global =  140\n",
      "Match AWS IoT =  142\n",
      "Match global or Global =  143\n",
      "Match global or Global =  147\n",
      "Match global or Global =  149\n",
      "Match global or Global =  151\n",
      "Match global or Global =  154\n",
      "Match AWS IoT =  160\n",
      "Match global or Global =  163\n",
      "Match global or Global =  164\n",
      "Match AWS IoT =  168\n",
      "Match global or Global =  189\n",
      "Match global or Global =  191\n",
      "Match AWS IoT =  196\n",
      "Match global or Global =  204\n",
      "Match global or Global =  205\n",
      "Match global or Global =  208\n",
      "Match global or Global =  209\n",
      "Match global or Global =  220\n",
      "Match global or Global =  228\n",
      "Match global or Global =  229\n",
      "Match global or Global =  231\n",
      "Match global or Global =  233\n",
      "Match global or Global =  244\n",
      "Match global or Global =  245\n",
      "Match global or Global =  248\n",
      "Match global or Global =  253\n",
      "Match global or Global =  256\n",
      "Match global or Global =  258\n",
      "Match global or Global =  266\n",
      "Match MSA Networking =  275\n",
      "Match MSA Networking =  276\n",
      "Match Google Cloud infrastructure components =  278\n",
      "Match MSA Networking =  292\n",
      "Match Google Cloud infrastructure components =  296\n",
      "Match MSA Networking =  301\n",
      "Match MSA Networking =  309\n",
      "Match MSA Networking =  325\n",
      "Match MSA Networking =  331\n",
      "Match MSA Networking =  333\n",
      "Match MSA Networking =  345\n",
      "Match MSA Networking =  346\n",
      "Match MSA Networking =  347\n",
      "Match MSA Networking =  351\n",
      "Match MSA Networking =  352\n",
      "Match MSA Networking =  353\n",
      "Match MSA Networking =  357\n",
      "Match MSA Networking =  358\n",
      "Match MSA Networking =  377\n",
      "Match MSA Networking =  378\n",
      "Match MSA Networking =  390\n",
      "Match MSA Networking =  391\n",
      "Match MSA Networking =  398\n",
      "Match MSA Networking =  401\n",
      "Match MSA Networking =  403\n",
      "Match Google Cloud infrastructure components =  409\n",
      "Match MSA Networking =  467\n",
      "Match MSA Networking =  479\n",
      "Match Google Cloud infrastructure components =  487\n",
      "Match Google Cloud infrastructure components =  495\n",
      "Match Google Cloud infrastructure components =  500\n",
      "Match Google Cloud infrastructure components =  504\n",
      "Match Google Cloud infrastructure components =  505\n",
      "Match Google Cloud infrastructure components =  506\n",
      "Match Google Cloud infrastructure components =  507\n",
      "Match Google Cloud infrastructure components =  508\n",
      "Match Google Cloud infrastructure components =  509\n",
      "Match Google Cloud infrastructure components =  510\n",
      "Match Google Cloud infrastructure components =  511\n",
      "Match Google Cloud infrastructure components =  512\n",
      "Match Google Cloud infrastructure components =  513\n",
      "Match Google Cloud infrastructure components =  515\n",
      "Match MSA Networking =  527\n",
      "Match Google Cloud infrastructure components =  535\n",
      "Match Google Cloud infrastructure components =  548\n",
      "Match Google Cloud infrastructure components =  552\n",
      "Match Google Cloud infrastructure components =  556\n",
      "Match Google Cloud infrastructure components =  560\n",
      "Match Google Cloud infrastructure components =  561\n",
      "Match Google Cloud infrastructure components =  562\n",
      "Match Google Cloud infrastructure components =  564\n",
      "Match Google Cloud infrastructure components =  565\n",
      "Match MSA Networking =  566\n",
      "Match Google Cloud infrastructure components =  567\n",
      "Match Google Cloud infrastructure components =  568\n",
      "Match Google Cloud infrastructure components =  569\n",
      "Match Google Cloud infrastructure components =  572\n",
      "Match Google Cloud infrastructure components =  573\n",
      "Match Google Cloud infrastructure components =  574\n",
      "Match Google Cloud infrastructure components =  575\n",
      "Match Google Cloud infrastructure components =  576\n",
      "Match Google Cloud infrastructure components =  577\n",
      "Match Google Cloud infrastructure components =  578\n",
      "Match Google Cloud infrastructure components =  579\n",
      "Match Google Cloud infrastructure components =  580\n",
      "Match Google Cloud infrastructure components =  581\n",
      "Match Google Cloud infrastructure components =  582\n",
      "Match Google Cloud infrastructure components =  584\n",
      "Match Google Cloud infrastructure components =  585\n",
      "Match global or Global =  588\n",
      "Match Azure Portal =  588\n",
      "Match North America =  589\n",
      "Match global or Global =  590\n",
      "Match global or Global =  591\n",
      "Match West Europe =  592\n",
      "Match global or Global =  593\n",
      "Match West US 2 =  594\n",
      "Match West Europe =  595\n",
      "Match West Europe =  596\n",
      "Match global or Global =  597\n",
      "Match Virtual Machines and Azure Databricks =  597\n",
      "Match global or Global =  598\n",
      "Match West Europe =  599\n",
      "Match West Europe =  600\n",
      "Match Azure Portal =  600\n",
      "Match West Europe =  601\n",
      "Match East US =  602\n",
      "Match North America =  603\n",
      "Match global or Global =  604\n",
      "Match Azure Portal =  604\n",
      "Match global or Global =  605\n",
      "Match Azure connectivity issues =  605\n",
      "Match global or Global =  606\n",
      "Match Azure connectivity issues =  606\n",
      "Match global or Global =  607\n",
      "Match Microsoft Government Cloud resources =  607\n",
      "Match global or Global =  608\n",
      "Match global or Global =  609\n",
      "Match global or Global =  610\n",
      "Match global or Global =  611\n",
      "Match Azure Portal =  611\n",
      "Match global or Global =  612\n",
      "Match Microsoft Government Cloud resources =  612\n",
      "Match global or Global =  613\n",
      "Match global or Global =  614\n",
      "Match Microsoft Government Cloud resources =  614\n",
      "Match South Central US =  615\n",
      "Match global or Global =  616\n",
      "Match Azure Portal =  616\n",
      "Match global or Global =  617\n",
      "Match MSA Login Failures =  617\n",
      "Match global or Global =  618\n",
      "Match Azure Portal =  618\n",
      "Match global or Global =  619\n",
      "Match Microsoft Government Cloud resources =  619\n",
      "Match global or Global =  620\n",
      "Match Azure connectivity issues =  620\n",
      "Match South Central US =  621\n",
      "Match global or Global =  622\n",
      "Match Microsoft Government Cloud resources =  622\n",
      "Match global or Global =  623\n",
      "Match Azure Portal =  623\n",
      "Match global or Global =  624\n",
      "Match MSA Networking =  624\n",
      "Match East US =  625\n",
      "Match US Government Cloud =  626\n",
      "Match global or Global =  627\n",
      "Match US Government Cloud =  628\n",
      "Match East US =  629\n",
      "Match South Central US =  630\n",
      "Match global or Global =  631\n",
      "Match MSA Login Failures =  631\n",
      "Match West Central US =  632\n",
      "Match West Central US =  633\n",
      "Match West Central US =  634\n",
      "Match global or Global =  635\n",
      "Match global or Global =  636\n",
      "Match East US =  637\n",
      "Match East US =  638\n"
     ]
    }
   ],
   "source": [
    "# make data better using find() \n",
    "\n",
    "i = 0\n",
    "j = 0\n",
    "\n",
    "temp_df = temp_df.reset_index(drop=True)\n",
    "\n",
    "print(\"Here in 2020 = \",len(temp_df))\n",
    "\n",
    "# temp_df['event_start_time'] = temp_df['event_start_time'].astype(str)\n",
    "\n",
    "while (i < len (temp_df) ):\n",
    "\n",
    "    # location\n",
    "\n",
    "    # 2020\n",
    "    if re.search('West Central US', str(temp_df.iat[i,2]) , re.IGNORECASE):\n",
    "        print('Match West Central US = ', i)\n",
    "        temp_df.iat[i,2] = 'West Central US'\n",
    "    \n",
    "    elif re.search('US Government Cloud', str(temp_df.iat[i,2]) , re.IGNORECASE):    # if there is a match\n",
    "        print('Match US Government Cloud = ', i)\n",
    "        temp_df.iat[i,2] = 'US Government Cloud'\n",
    "\n",
    "    elif re.search('East US', str(temp_df.iat[i,2]) , re.IGNORECASE):    # if there is a match\n",
    "        print('Match East US = ', i)\n",
    "        temp_df.iat[i,2] = 'East US'\n",
    "\n",
    "    elif re.search('South Central US', str(temp_df.iat[i,2]) , re.IGNORECASE):    # if there is a match\n",
    "        print('Match South Central US = ', i)\n",
    "        temp_df.iat[i,2] = 'South Central US'\n",
    "\n",
    "    elif re.search('global', str(temp_df.iat[i,2]) , re.IGNORECASE):    # if there is a match\n",
    "        print('Match global or Global = ', i)     # note that we ignore the case when checking match\n",
    "        temp_df.iat[i,2] = 'Multi-region' # instaed of Global \n",
    "\n",
    "\n",
    "    # 2019\n",
    "    elif re.search('West US 2', str(temp_df.iat[i,2]) , re.IGNORECASE):    # if there is a match\n",
    "        print('Match West US 2 = ', i)\n",
    "        temp_df.iat[i,2] = 'West US 2'\n",
    "\n",
    "    elif re.search('North America', str(temp_df.iat[i,2]) , re.IGNORECASE):    # if there is a match\n",
    "        print('Match North America = ', i)\n",
    "        temp_df.iat[i,2] = 'North America'\n",
    "\n",
    "    elif re.search('West Europe', str(temp_df.iat[i,2]) , re.IGNORECASE):    # if there is a match\n",
    "        print('Match West Europe = ', i)\n",
    "        temp_df.iat[i,2] = 'West Europe'\n",
    "\n",
    "    elif re.search('Australia East/Australia Southeast', str(temp_df.iat[i,2]) , re.IGNORECASE):    # if there is a match\n",
    "        print('Match Australia East/Australia Southeast = ', i)\n",
    "        temp_df.iat[i,2] = 'Australia Southeast / Australia East'\n",
    "\n",
    "    elif re.search('Azure Front Door Service and Azure CDN', str(temp_df.iat[i,2]) , re.IGNORECASE):    # if there is a match\n",
    "        print('Match Australia Azure Front Door Service and Azure CDN = ', i)\n",
    "        temp_df.iat[i,2] = 'Azure Front Door Service and Azure CDN' # remove things if there are extra ahead of this\n",
    "\n",
    "    elif re.search('Azure Kubernetes Service', str(temp_df.iat[i,2]) , re.IGNORECASE):    # if there is a match\n",
    "        print('Match Azure Kubernetes Service = ', i)\n",
    "        temp_df.iat[i,2] = 'Azure Kubernetes Service'\n",
    "\n",
    "    elif re.search('Virtual Machines and Azure Databricks', str(temp_df.iat[i,2]) , re.IGNORECASE):    # if there is a match\n",
    "        print('Match Virtual Machines and Azure Databricks = ', i)\n",
    "        temp_df.iat[i,2] = 'Virtual Machines and Azure Databricks'\n",
    "\n",
    "    elif re.search('West US', str(temp_df.iat[i,2]) , re.IGNORECASE):    # if there is a match\n",
    "        print('Match West US = ', i)\n",
    "        temp_df.iat[i,2] = 'US-West'\n",
    "\n",
    "    # 2018\n",
    "    elif re.search('North Europe', str(temp_df.iat[i,2]) , re.IGNORECASE): \n",
    "        print('Match North Europe = ', i)\n",
    "        temp_df.iat[i,2] = 'North Europe'   # remove things if there are extra ahead of this\n",
    "\n",
    "    elif re.search('Southeast Asia', str(temp_df.iat[i,2]) , re.IGNORECASE): \n",
    "        print('Match Southeast Asia = ', i)\n",
    "        temp_df.iat[i,2] = 'South East Asia'\n",
    "\n",
    "    elif re.search('UK South/UK West', str(temp_df.iat[i,2]) , re.IGNORECASE) or re.search('UK South and UK West', str(temp_df.iat[i,2]) , re.IGNORECASE): \n",
    "        print('Match UK South/UK West or ( UK South and UK West ) = ', i)\n",
    "        temp_df.iat[i,2] = 'UK South / UK West' \n",
    "\n",
    "    elif re.search('West US', str(temp_df.iat[i,2]) , re.IGNORECASE):    \n",
    "        print('Match West US = ', i)\n",
    "        temp_df.iat[i,2] = 'West US'\n",
    "\n",
    "    elif re.search('West and South India', str(temp_df.iat[i,2]) , re.IGNORECASE):   \n",
    "        print('Match West and South India = ', i)\n",
    "        temp_df.iat[i,2] = 'West India and South India'\n",
    "\n",
    "\n",
    "    # service_name \n",
    "\n",
    "    # 2020\n",
    "    if re.search('Microsoft Government Cloud resources', str(temp_df.iat[i,1]) , re.IGNORECASE):    # if there is a match\n",
    "        print('Match Microsoft Government Cloud resources = ', i)\n",
    "        temp_df.iat[i,1] = 'Microsoft Government Cloud resources'\n",
    "\n",
    "    elif re.search('Azure Portal', str(temp_df.iat[i,1]) , re.IGNORECASE):    # if there is a match\n",
    "        print('Match Azure Portal = ', i)\n",
    "        temp_df.iat[i,1] = 'Azure Portal'\n",
    "\n",
    "    elif re.search('Azure connectivity issues', str(temp_df.iat[i,1]) , re.IGNORECASE):    # if there is a match\n",
    "        print('Match Azure connectivity issues = ', i)\n",
    "        temp_df.iat[i,1] = 'Azure connectivity issues'\n",
    "\n",
    "    elif re.search('MSA Login Failures', str(temp_df.iat[i,1]) , re.IGNORECASE):    # if there is a match\n",
    "        print('Match MSA Login Failures = ', i)\n",
    "        temp_df.iat[i,1] = 'MSA Login Failures'\n",
    "\n",
    "    elif re.search('Google Cloud infrastructure components', str(temp_df.iat[i,1]) , re.IGNORECASE):    # if there is a match\n",
    "        print('Match Google Cloud infrastructure components = ', i)\n",
    "        temp_df.iat[i,1] = 'Google Cloud Infrastructure Components'\n",
    "\n",
    "    # 2019\n",
    "\n",
    "    elif re.search('Network Degradation', str(temp_df.iat[i,1]) , re.IGNORECASE):    # if there is a match\n",
    "        print('Match Network Degradation = ', i)\n",
    "        temp_df.iat[i,1] = 'Network'    # this should come before the networking elif statement\n",
    "\n",
    "    elif re.search('Networking', str(temp_df.iat[i,1]) , re.IGNORECASE):    # if there is a match\n",
    "        print('Match MSA Networking = ', i)\n",
    "        temp_df.iat[i,1] = 'Network'\n",
    "\n",
    "    elif re.search('AWS IoT', str(temp_df.iat[i,1]) , re.IGNORECASE):    # if there is a match\n",
    "        print('Match AWS IoT = ', i)\n",
    "        temp_df.iat[i,1] = 'AWS IoT'\n",
    "\n",
    "    elif re.search('SQL services', str(temp_df.iat[i,1]) , re.IGNORECASE):    # if there is a match\n",
    "        print('Match SQL services = ', i)\n",
    "        temp_df.iat[i,1] = 'SQL Services'\n",
    "\n",
    "    elif re.search('Azure Front Door Service and Azure CDN', str(temp_df.iat[i,1]) , re.IGNORECASE):    # if there is a match\n",
    "        print('Match Azure Front Door Service and Azure CDN = ', i)\n",
    "        temp_df.iat[i,1] = 'Azure Front Door Service and Azure CDN'\n",
    "\n",
    "    elif re.search('Virtual Machines and Azure Databricks', str(temp_df.iat[i,1]) , re.IGNORECASE):    # if there is a match\n",
    "        print('Match Virtual Machines and Azure Databricks = ', i)\n",
    "        temp_df.iat[i,1] = 'Virtual Machines and Azure Databricks'\n",
    "\n",
    "    # 2018\n",
    "\n",
    "    elif re.search('Azure Data Lake Store/Data Lake Analytics', str(temp_df.iat[i,1]) , re.IGNORECASE):    # if there is a match\n",
    "        print('Match Azure Data Lake Store/Data Lake Analytics = ', i)\n",
    "        temp_df.iat[i,1] = 'Azure Data Lake Store / Data Lake Analytics'\n",
    "\n",
    "    elif re.search('App Service and Azure Functions', str(temp_df.iat[i,1]) , re.IGNORECASE) or re.search('App Service &amp; Function Apps', str(temp_df.iat[i,1]) , re.IGNORECASE)  or re.search('App Service and Function Apps', str(temp_df.iat[i,1]) , re.IGNORECASE): \n",
    "        print('Match App Service and Azure Functions = ', i)\n",
    "        temp_df.iat[i,1] = 'Azure App Service and Functions App'\n",
    "\n",
    "    elif re.search('Amazon EC2 Systems Manager', str(temp_df.iat[i,1]) , re.IGNORECASE) or re.search('AWS Systems Manager', str(temp_df.iat[i,1]) , re.IGNORECASE):   \n",
    "        print('Match Amazon EC2 Systems Manager or AWS Systems Manager  = ', i)\n",
    "        temp_df.iat[i,1] = 'AWS Systems Manager'\n",
    "\n",
    "\n",
    "    i = i + 1\n"
   ]
  },
  {
   "cell_type": "code",
   "execution_count": 354,
   "metadata": {
    "pycharm": {
     "is_executing": false
    },
    "tags": []
   },
   "outputs": [
    {
     "name": "stdout",
     "output_type": "stream",
     "text": [
      "-1\n",
      "len is:  639\n"
     ]
    }
   ],
   "source": [
    "# validate: rows should be at same place\n",
    "print(temp_df.iat[0,4])\n",
    "temp_df = temp_df.reset_index(drop=True)\n",
    "print('len is: ', len(temp_df) )"
   ]
  },
  {
   "cell_type": "markdown",
   "metadata": {},
   "source": [
    "Removing duplicate rows. Refer to documnentation for the criteria a of duplicate row."
   ]
  },
  {
   "cell_type": "code",
   "execution_count": 355,
   "metadata": {
    "pycharm": {
     "is_executing": false
    },
    "tags": []
   },
   "outputs": [
    {
     "name": "stdout",
     "output_type": "stream",
     "text": [
      "len is:  639\n",
      "j =  164 is :\n",
      "dp6\n",
      "len is:  638\n",
      "j =  411 is :\n",
      "dp4\n",
      "len is:  637\n",
      "j =  411 is :\n",
      "dp4\n",
      "len is:  636\n",
      "j =  421 is :\n",
      "dp4\n",
      "len is:  635\n",
      "j =  574 is :\n",
      "dp1\n",
      "len is:  634\n",
      "j =  574 is :\n",
      "dp1\n",
      "len is:  633\n",
      "j =  410 is :\n",
      "dp7\n",
      "len is:  632\n",
      "j =  416 is :\n",
      "dp4\n",
      "len is:  631\n",
      "j =  415 is :\n",
      "dp4\n",
      "len is:  630\n",
      "j =  415 is :\n",
      "dp4\n",
      "len is:  629\n",
      "j =  569 is :\n",
      "dp1\n",
      "len is:  628\n",
      "j =  410 is :\n",
      "dp4\n",
      "len is:  627\n",
      "j =  414 is :\n",
      "dp4\n",
      "len is:  626\n",
      "j =  411 is :\n",
      "dp4\n",
      "len is:  625\n",
      "j =  411 is :\n",
      "dp4\n",
      "len is:  624\n",
      "j =  411 is :\n",
      "dp4\n",
      "len is:  623\n",
      "j =  431 is :\n",
      "dp4\n",
      "len is:  622\n",
      "j =  431 is :\n",
      "dp4\n",
      "len is:  621\n",
      "j =  431 is :\n",
      "dp4\n",
      "len is:  620\n",
      "j =  431 is :\n",
      "dp4\n",
      "len is:  619\n",
      "j =  441 is :\n",
      "dp4\n",
      "len is:  618\n",
      "j =  443 is :\n",
      "dp4\n",
      "len is:  617\n",
      "j =  443 is :\n",
      "dp4\n",
      "len is:  616\n",
      "j =  442 is :\n",
      "dp4\n",
      "len is:  615\n",
      "j =  441 is :\n",
      "dp4\n",
      "len is:  614\n",
      "j =  432 is :\n",
      "dp4\n",
      "len is:  613\n",
      "j =  435 is :\n",
      "dp4\n",
      "len is:  612\n",
      "j =  436 is :\n",
      "dp4\n",
      "len is:  611\n",
      "j =  434 is :\n",
      "dp4\n",
      "len is:  610\n",
      "j =  434 is :\n",
      "dp4\n",
      "len is:  609\n",
      "j =  434 is :\n",
      "dp4\n",
      "len is:  608\n",
      "j =  434 is :\n",
      "dp4\n",
      "len is:  607\n",
      "j =  433 is :\n",
      "dp4\n",
      "len is:  606\n",
      "j =  433 is :\n",
      "dp4\n",
      "len is:  605\n",
      "j =  433 is :\n",
      "dp4\n",
      "len is:  604\n",
      "j =  431 is :\n",
      "dp5\n",
      "len is:  603\n",
      "j =  486 is :\n",
      "dp4\n",
      "len is:  602\n",
      "j =  486 is :\n",
      "dp4\n",
      "len is:  601\n",
      "j =  486 is :\n",
      "dp4\n",
      "len is:  600\n",
      "j =  486 is :\n",
      "dp4\n",
      "len is:  599\n",
      "j =  486 is :\n",
      "dp4\n",
      "len is:  598\n",
      "j =  463 is :\n",
      "dp4\n",
      "len is:  597\n",
      "j =  527 is :\n",
      "dp4\n",
      "len is:  596\n",
      "j =  514 is :\n",
      "dp4\n",
      "len is:  595\n",
      "j =  517 is :\n",
      "dp4\n",
      "len is:  594\n",
      "j =  511 is :\n",
      "dp4\n",
      "len is:  593\n",
      "j =  513 is :\n",
      "dp4\n",
      "len is:  592\n",
      "j =  515 is :\n",
      "dp4\n",
      "len is:  591\n",
      "j =  504 is :\n",
      "dp4\n",
      "len is:  590\n",
      "j =  504 is :\n",
      "dp4\n",
      "len is:  589\n",
      "j =  517 is :\n",
      "dp4\n",
      "len is:  588\n",
      "j =  504 is :\n",
      "dp4\n",
      "len is:  587\n",
      "j =  504 is :\n",
      "dp4\n",
      "len is:  586\n",
      "j =  485 is :\n",
      "dp4\n",
      "len is:  585\n",
      "j =  485 is :\n",
      "dp4\n",
      "len is:  584\n",
      "j =  485 is :\n",
      "dp4\n",
      "len is:  583\n",
      "j =  485 is :\n",
      "dp4\n",
      "len is:  582\n",
      "j =  485 is :\n",
      "dp4\n",
      "len is:  581\n",
      "j =  504 is :\n",
      "dp4\n",
      "len is:  580\n",
      "j =  485 is :\n",
      "dp4\n",
      "len is:  579\n",
      "j =  485 is :\n",
      "dp4\n",
      "len is:  578\n",
      "j =  485 is :\n",
      "dp4\n",
      "len is:  577\n",
      "j =  485 is :\n",
      "dp4\n",
      "len is:  576\n",
      "j =  495 is :\n",
      "dp4\n",
      "len is:  575\n",
      "j =  497 is :\n",
      "dp4\n",
      "len is:  574\n",
      "j =  499 is :\n",
      "dp4\n",
      "len is:  573\n",
      "j =  485 is :\n",
      "dp4\n",
      "len is:  572\n",
      "j =  485 is :\n",
      "dp4\n",
      "len is:  571\n",
      "j =  485 is :\n",
      "dp4\n",
      "len is:  570\n",
      "j =  492 is :\n",
      "dp4\n",
      "len is:  569\n",
      "j =  493 is :\n",
      "dp4\n",
      "len is:  568\n",
      "j =  493 is :\n",
      "dp4\n",
      "len is:  567\n",
      "j =  493 is :\n",
      "dp4\n",
      "len is:  566\n",
      "j =  493 is :\n",
      "dp4\n",
      "len is:  565\n",
      "j =  493 is :\n",
      "dp4\n",
      "len is:  564\n",
      "j =  493 is :\n",
      "dp4\n",
      "len is:  563\n",
      "j =  493 is :\n",
      "dp4\n",
      "len is:  562\n",
      "j =  485 is :\n",
      "dp4\n",
      "len is:  561\n",
      "j =  485 is :\n",
      "dp4\n",
      "len is:  560\n",
      "j =  485 is :\n",
      "dp4\n",
      "len is:  559\n",
      "j =  485 is :\n",
      "dp4\n",
      "len is:  558\n",
      "j =  485 is :\n",
      "dp4\n",
      "len is:  557\n",
      "j =  487 is :\n",
      "dp4\n",
      "len is:  556\n",
      "j =  485 is :\n",
      "dp4\n",
      "len is:  555\n",
      "j =  485 is :\n",
      "dp4\n",
      "len is:  554\n",
      "j =  486 is :\n",
      "dp5\n",
      "len is:  553\n",
      "j =  493 is :\n",
      "dp1\n",
      "len is:  552\n",
      "j =  467 is :\n",
      "dp6\n",
      "len is:  551\n",
      "j =  467 is :\n",
      "dp6\n",
      "len is:  550\n",
      "j =  467 is :\n",
      "dp6\n",
      "len is:  549\n",
      "j =  467 is :\n",
      "dp6\n",
      "len is:  548\n",
      "j =  476 is :\n",
      "dp6\n",
      "len is:  547\n",
      "j =  478 is :\n",
      "dp7\n",
      "len is:  546\n",
      "j =  478 is :\n",
      "dp7\n",
      "len is:  545\n",
      "j =  464 is :\n",
      "dp6\n",
      "len is:  544\n",
      "j =  464 is :\n",
      "dp6\n",
      "len is:  543\n",
      "j =  464 is :\n",
      "dp6\n",
      "len is:  542\n",
      "j =  464 is :\n",
      "dp6\n",
      "len is:  541\n",
      "j =  464 is :\n",
      "dp6\n",
      "len is:  540\n",
      "j =  464 is :\n",
      "dp6\n",
      "len is:  539\n",
      "j =  464 is :\n",
      "dp6\n",
      "len is:  538\n",
      "j =  464 is :\n",
      "dp6\n",
      "len is:  537\n",
      "j =  464 is :\n",
      "dp6\n",
      "len is:  536\n",
      "j =  465 is :\n",
      "dp7\n",
      "len is:  535\n",
      "j =  465 is :\n",
      "dp7\n",
      "len is:  534\n",
      "j =  473 is :\n",
      "dp1\n",
      "len is:  533\n",
      "j =  475 is :\n",
      "dp4\n",
      "len is:  532\n",
      "j =  475 is :\n",
      "dp5\n",
      "len is:  531\n",
      "j =  476 is :\n",
      "dp5\n",
      "len is:  530\n",
      "j =  475 is :\n",
      "dp4\n",
      "len is:  529\n",
      "j =  476 is :\n",
      "dp4\n",
      "len is:  528\n",
      "j =  476 is :\n",
      "dp4\n",
      "len is:  527\n",
      "j =  473 is :\n",
      "dp1\n",
      "len is:  526\n",
      "j =  474 is :\n",
      "dp1\n",
      "len is:  525\n",
      "j =  473 is :\n",
      "dp1\n",
      "len is:  524\n",
      "j =  491 is :\n",
      "dp6\n",
      "len is:  523\n",
      "j =  496 is :\n",
      "dp5\n",
      "len is:  522\n",
      "j =  497 is :\n",
      "dp6\n",
      "len is:  521\n",
      "j =  501 is :\n",
      "dp6\n",
      "len is:  520\n",
      "j =  502 is :\n",
      "dp6\n",
      "len is:  519\n",
      "j =  511 is :\n",
      "dp6\n",
      "len is:  518\n",
      "j =  502 is :\n",
      "dp5\n",
      "len is:  517\n",
      "j =  508 is :\n",
      "dp5\n",
      "len is:  516\n",
      "j =  507 is :\n",
      "dp7\n",
      "len is:  515\n",
      "j =  505 is :\n",
      "dp5\n",
      "len is:  514\n",
      "j =  511 is :\n",
      "dp6\n",
      "len is:  513\n",
      "j =  511 is :\n",
      "dp2\n",
      "len is:  512\n",
      "j =  511 is :\n",
      "dp2\n",
      "len is:  511\n",
      "j =  507 is :\n",
      "dp5\n",
      "len is:  510\n",
      "j =  507 is :\n",
      "dp6\n"
     ]
    }
   ],
   "source": [
    "# remove duplicate rows\n",
    "\n",
    "# data frame to store duplicate rows\n",
    "\n",
    "df_duplicates = temp_df[0:0]\n",
    "\n",
    "count_dups = 0\n",
    "\n",
    "i = 0\n",
    "j = 0\n",
    "\n",
    "while (i < len(temp_df)):\n",
    "    j = i + 1\n",
    "\n",
    "    while (j < len(temp_df)):\n",
    "\n",
    "        # print(\"j = \",j)\n",
    "\n",
    "        if ( (temp_df.iat[i,0] == temp_df.iat[j,0])   \n",
    "        and (temp_df.iat[i,1] == temp_df.iat[j,1])\n",
    "        and (temp_df.iat[i,2] == temp_df.iat[j,2])\n",
    "        and (temp_df.iat[i,4] == temp_df.iat[j,4])\n",
    "        and (temp_df.iat[i,9] == temp_df.iat[j,9]) ):\n",
    "\n",
    "            print('len is: ', len(temp_df) )\n",
    "            print(\"j = \",j, \"is :\")\n",
    "\n",
    "\n",
    "            if ( (temp_df.iat[i,5] == temp_df.iat[j,5])\n",
    "            and (len(temp_df.iat[i,8]) == len(temp_df.iat[j,8])) ):\n",
    "                count_dups = count_dups + 1\n",
    "                print(\"dp1\")    \n",
    "\n",
    "                restore_i = i\n",
    "                i = j \n",
    "                \n",
    "                df_duplicates = df_duplicates.append({'service_id' : temp_df.iat[i,0] , 'service_name' : temp_df.iat[i,1], 'location' : temp_df.iat[i,2], 'status' : temp_df.iat[i,3], 'event_start_time' : temp_df.iat[i,4], 'event_end_time' : temp_df.iat[i,5], 'first_notification' : temp_df.iat[i,6], 'last_notification' : temp_df.iat[i,7], 'description' : temp_df.iat[i,8], 'vendor' : temp_df.iat[i,9] , 'monitor' : temp_df.iat[i,10], 'org_type' : temp_df.iat[i,11]}, ignore_index=True)\n",
    "\n",
    "                i = restore_i\n",
    "\n",
    "                temp_df = temp_df.drop(temp_df.index[[j]], inplace = False)\n",
    "                temp_df = temp_df.reset_index(drop=True)\n",
    "                # no_of_rows = no_of_rows - 1\n",
    "                i = i - 2\n",
    "                j = j - 2\n",
    "                break\n",
    "\n",
    "\n",
    "            elif ( (temp_df.iat[i,5] > temp_df.iat[j,5])\n",
    "            and (len(temp_df.iat[i,8]) == len(temp_df.iat[j,8])) ):\n",
    "                count_dups = count_dups + 1\n",
    "                print(\"dp2\")\n",
    "\n",
    "                restore_i = i\n",
    "                i = j\n",
    "\n",
    "                df_duplicates = df_duplicates.append({'service_id' : temp_df.iat[i,0] , 'service_name' : temp_df.iat[i,1], 'location' : temp_df.iat[i,2], 'status' : temp_df.iat[i,3], 'event_start_time' : temp_df.iat[i,4], 'event_end_time' : temp_df.iat[i,5], 'first_notification' : temp_df.iat[i,6], 'last_notification' : temp_df.iat[i,7], 'description' : temp_df.iat[i,8], 'vendor' : temp_df.iat[i,9] , 'monitor' : temp_df.iat[i,10], 'org_type' : temp_df.iat[i,11]}, ignore_index=True)\n",
    "\n",
    "                i = restore_i\n",
    "\n",
    "                temp_df = temp_df.drop(temp_df.index[[j]], inplace = False)\n",
    "                temp_df = temp_df.reset_index(drop=True)\n",
    "                # no_of_rows = no_of_rows - 1\n",
    "                i = i - 2\n",
    "                j = j - 2\n",
    "                break\n",
    "            \n",
    "            elif ( (temp_df.iat[i,5] < temp_df.iat[j,5])\n",
    "            and (len(temp_df.iat[i,8]) == len(temp_df.iat[j,8])) ):\n",
    "                count_dups = count_dups + 1\n",
    "                print(\"dp3\")\n",
    "\n",
    "                df_duplicates = df_duplicates.append({'service_id' : temp_df.iat[i,0] , 'service_name' : temp_df.iat[i,1], 'location' : temp_df.iat[i,2], 'status' : temp_df.iat[i,3], 'event_start_time' : temp_df.iat[i,4], 'event_end_time' : temp_df.iat[i,5], 'first_notification' : temp_df.iat[i,6], 'last_notification' : temp_df.iat[i,7], 'description' : temp_df.iat[i,8], 'vendor' : temp_df.iat[i,9] , 'monitor' : temp_df.iat[i,10], 'org_type' : temp_df.iat[i,11]}, ignore_index=True)\n",
    "\n",
    "                temp_df = temp_df.drop(temp_df.index[[i]], inplace = False)\n",
    "                temp_df = temp_df.reset_index(drop=True)\n",
    "                # no_of_rows = no_of_rows - 1\n",
    "                i = i - 2\n",
    "                j = j - 2\n",
    "                break\n",
    "\n",
    "\n",
    "            elif ( (temp_df.iat[i,5] > temp_df.iat[j,5])\n",
    "            and (len(temp_df.iat[i,8]) > len(temp_df.iat[j,8])) ):\n",
    "                count_dups = count_dups + 1\n",
    "                print(\"dp4\")\n",
    "\n",
    "                restore_i = i\n",
    "                i = j\n",
    "\n",
    "                df_duplicates = df_duplicates.append({'service_id' : temp_df.iat[i,0] , 'service_name' : temp_df.iat[i,1], 'location' : temp_df.iat[i,2], 'status' : temp_df.iat[i,3], 'event_start_time' : temp_df.iat[i,4], 'event_end_time' : temp_df.iat[i,5], 'first_notification' : temp_df.iat[i,6], 'last_notification' : temp_df.iat[i,7], 'description' : temp_df.iat[i,8], 'vendor' : temp_df.iat[i,9] , 'monitor' : temp_df.iat[i,10], 'org_type' : temp_df.iat[i,11]}, ignore_index=True)\n",
    "\n",
    "                i = restore_i\n",
    "\n",
    "                temp_df = temp_df.drop(temp_df.index[[j]], inplace = False)\n",
    "                temp_df = temp_df.reset_index(drop=True)\n",
    "                # no_of_rows = no_of_rows - 1\n",
    "                i = i - 2\n",
    "                j = j - 2\n",
    "                break\n",
    "\n",
    "\n",
    "            elif ( (temp_df.iat[i,5] == temp_df.iat[j,5])\n",
    "            and (len(temp_df.iat[i,8]) > len(temp_df.iat[j,8])) ):\n",
    "                count_dups = count_dups + 1\n",
    "                print(\"dp5\")\n",
    "\n",
    "                # print('len is: ', len(temp_df) )\n",
    "\n",
    "                restore_i = i\n",
    "                i = j\n",
    "\n",
    "                df_duplicates = df_duplicates.append({'service_id' : temp_df.iat[i,0] , 'service_name' : temp_df.iat[i,1], 'location' : temp_df.iat[i,2], 'status' : temp_df.iat[i,3], 'event_start_time' : temp_df.iat[i,4], 'event_end_time' : temp_df.iat[i,5], 'first_notification' : temp_df.iat[i,6], 'last_notification' : temp_df.iat[i,7], 'description' : temp_df.iat[i,8], 'vendor' : temp_df.iat[i,9] , 'monitor' : temp_df.iat[i,10], 'org_type' : temp_df.iat[i,11]}, ignore_index=True)\n",
    "\n",
    "                i = restore_i\n",
    "\n",
    "                temp_df = temp_df.drop(temp_df.index[[j]], inplace = False)\n",
    "                # temp_df = temp_df.drop(temp_df.index[j])\n",
    "\n",
    "                # print('2 len is: ', len(temp_df) )\n",
    "\n",
    "                temp_df = temp_df.reset_index(drop=True)\n",
    "                # no_of_rows = no_of_rows - 1\n",
    "                i = i - 2\n",
    "                j = j - 2\n",
    "                break\n",
    "\n",
    "            elif ( (temp_df.iat[i,5] == temp_df.iat[j,5])\n",
    "            and (len(temp_df.iat[i,8]) < len(temp_df.iat[j,8])) ):\n",
    "                count_dups = count_dups + 1\n",
    "                print(\"dp6\")\n",
    "\n",
    "                df_duplicates = df_duplicates.append({'service_id' : temp_df.iat[i,0] , 'service_name' : temp_df.iat[i,1], 'location' : temp_df.iat[i,2], 'status' : temp_df.iat[i,3], 'event_start_time' : temp_df.iat[i,4], 'event_end_time' : temp_df.iat[i,5], 'first_notification' : temp_df.iat[i,6], 'last_notification' : temp_df.iat[i,7], 'description' : temp_df.iat[i,8], 'vendor' : temp_df.iat[i,9] , 'monitor' : temp_df.iat[i,10], 'org_type' : temp_df.iat[i,11]}, ignore_index=True)\n",
    "\n",
    "                temp_df = temp_df.drop(temp_df.index[[i]], inplace = False)\n",
    "                temp_df = temp_df.reset_index(drop=True)\n",
    "                # no_of_rows = no_of_rows - 1\n",
    "                i = i - 2\n",
    "                j = j - 2\n",
    "                break\n",
    "\n",
    "\n",
    "            elif ( (temp_df.iat[i,5] < temp_df.iat[j,5])\n",
    "            and (len(temp_df.iat[i,8]) < len(temp_df.iat[j,8])) ):\n",
    "                count_dups = count_dups + 1\n",
    "                print(\"dp7\")\n",
    "\n",
    "                df_duplicates = df_duplicates.append({'service_id' : temp_df.iat[i,0] , 'service_name' : temp_df.iat[i,1], 'location' : temp_df.iat[i,2], 'status' : temp_df.iat[i,3], 'event_start_time' : temp_df.iat[i,4], 'event_end_time' : temp_df.iat[i,5], 'first_notification' : temp_df.iat[i,6], 'last_notification' : temp_df.iat[i,7], 'description' : temp_df.iat[i,8], 'vendor' : temp_df.iat[i,9] , 'monitor' : temp_df.iat[i,10], 'org_type' : temp_df.iat[i,11]}, ignore_index=True)\n",
    "\n",
    "                temp_df = temp_df.drop(temp_df.index[[i]], inplace = False)\n",
    "                temp_df = temp_df.reset_index(drop=True)\n",
    "                # no_of_rows = no_of_rows - 1\n",
    "                i = i - 2\n",
    "                j = j - 2\n",
    "                break\n",
    "\n",
    "            # edge cases\n",
    "\n",
    "            elif ( (temp_df.iat[i,5] > temp_df.iat[j,5])\n",
    "            and (len(temp_df.iat[i,8]) < len(temp_df.iat[j,8])) ):\n",
    "                count_dups = count_dups + 1\n",
    "                print(\"dp4\")\n",
    "\n",
    "                temp_df.iat[i,8] = temp_df.iat[j,8] # give i the discription of j and remove j\n",
    "\n",
    "                restore_i = i\n",
    "                i = j\n",
    "\n",
    "                df_duplicates = df_duplicates.append({'service_id' : temp_df.iat[i,0] , 'service_name' : temp_df.iat[i,1], 'location' : temp_df.iat[i,2], 'status' : temp_df.iat[i,3], 'event_start_time' : temp_df.iat[i,4], 'event_end_time' : temp_df.iat[i,5], 'first_notification' : temp_df.iat[i,6], 'last_notification' : temp_df.iat[i,7], 'description' : temp_df.iat[i,8], 'vendor' : temp_df.iat[i,9] , 'monitor' : temp_df.iat[i,10], 'org_type' : temp_df.iat[i,11]}, ignore_index=True)\n",
    "\n",
    "                i = restore_i\n",
    "\n",
    "                temp_df = temp_df.drop(temp_df.index[[j]], inplace = False)\n",
    "                temp_df = temp_df.reset_index(drop=True)\n",
    "                # no_of_rows = no_of_rows - 1\n",
    "                i = i - 2\n",
    "                j = j - 2\n",
    "                break\n",
    "\n",
    "        \n",
    "            elif ( (temp_df.iat[i,5] < temp_df.iat[j,5])\n",
    "            and (len(temp_df.iat[i,8]) > len(temp_df.iat[j,8])) ):\n",
    "                count_dups = count_dups + 1\n",
    "                print(\"dp7\")\n",
    "\n",
    "                temp_df.iat[j,5] = temp_df.iat[i,5] # give i the time of j and remove i\n",
    "\n",
    "                df_duplicates = df_duplicates.append({'service_id' : temp_df.iat[i,0] , 'service_name' : temp_df.iat[i,1], 'location' : temp_df.iat[i,2], 'status' : temp_df.iat[i,3], 'event_start_time' : temp_df.iat[i,4], 'event_end_time' : temp_df.iat[i,5], 'first_notification' : temp_df.iat[i,6], 'last_notification' : temp_df.iat[i,7], 'description' : temp_df.iat[i,8], 'vendor' : temp_df.iat[i,9] , 'monitor' : temp_df.iat[i,10], 'org_type' : temp_df.iat[i,11]}, ignore_index=True)\n",
    "\n",
    "                temp_df = temp_df.drop(temp_df.index[[i]], inplace = False)\n",
    "                temp_df = temp_df.reset_index(drop=True)\n",
    "                # no_of_rows = no_of_rows - 1\n",
    "                i = i - 2\n",
    "                j = j - 2\n",
    "                break\n",
    "\n",
    "\n",
    "            #else:\n",
    "                # print(\"continue j = \", j)\n",
    "                # example if a row has more time and other has more text so both are kept as they are can be helpful\n",
    "            \n",
    "            # print(\"j = \",j, \"-------\")\n",
    "\n",
    "        # print(\"dp\")\n",
    "        j = j + 1\n",
    "\n",
    "    # print(\"End j = \",j)\n",
    "\n",
    "\n",
    "    #print(\"dp\")\n",
    "    i = i + 1 \n",
    "    # print(\"i = \",i)\n",
    "\n",
    "    "
   ]
  },
  {
   "cell_type": "code",
   "execution_count": 356,
   "metadata": {},
   "outputs": [
    {
     "name": "stdout",
     "output_type": "stream",
     "text": [
      "Rows at start:  639\n",
      "Duplicates:  130\n",
      "Rows after duplicate removal:  509\n"
     ]
    }
   ],
   "source": [
    "print('Rows at start: ', no_of_rows)\n",
    "print('Duplicates: ', len(df_duplicates))\n",
    "print('Rows after duplicate removal: ', len(temp_df))"
   ]
  },
  {
   "cell_type": "markdown",
   "metadata": {},
   "source": [
    "Vendor stats after duplicate removal"
   ]
  },
  {
   "cell_type": "code",
   "execution_count": 357,
   "metadata": {},
   "outputs": [
    {
     "name": "stdout",
     "output_type": "stream",
     "text": [
      "At start: \n",
      " GCP      316\n",
      "AWS      271\n",
      "Azure     51\n",
      "           1\n",
      "Name: vendor, dtype: int64 \n",
      "\n",
      "In duplicates: \n",
      " GCP      114\n",
      "Azure     15\n",
      "AWS        1\n",
      "Name: vendor, dtype: int64 \n",
      "\n",
      "In remaing: \n",
      " AWS      270\n",
      "GCP      202\n",
      "Azure     36\n",
      "           1\n",
      "Name: vendor, dtype: int64 \n",
      "\n"
     ]
    }
   ],
   "source": [
    "print('At start: \\n', initial_df.vendor.value_counts(), '\\n')\n",
    "print('In duplicates: \\n', df_duplicates.vendor.value_counts(), '\\n')\n",
    "print('In remaing: \\n', temp_df.vendor.value_counts(), '\\n')"
   ]
  },
  {
   "cell_type": "code",
   "execution_count": 358,
   "metadata": {
    "pycharm": {
     "is_executing": false
    }
   },
   "outputs": [],
   "source": [
    "# Sort\n",
    "# left most has priority (own)\n",
    "sorted_df = temp_df.sort_values(by =['location', 'vendor', 'service_id', 'event_start_time', 'service_name']).reset_index(drop=True)\n",
    "temp_df = sorted_df"
   ]
  },
  {
   "cell_type": "markdown",
   "metadata": {},
   "source": [
    "Check and fill empty cells"
   ]
  },
  {
   "cell_type": "code",
   "execution_count": 359,
   "metadata": {
    "pycharm": {
     "is_executing": false
    }
   },
   "outputs": [
    {
     "name": "stdout",
     "output_type": "stream",
     "text": [
      "before: \n",
      " service_id             37\n",
      "service_name            1\n",
      "location              203\n",
      "status                  0\n",
      "event_start_time        0\n",
      "event_end_time          0\n",
      "first_notification      0\n",
      "last_notification       0\n",
      "description             1\n",
      "vendor                  1\n",
      "monitor                 1\n",
      "org_type                1\n",
      "dtype: int64 \n",
      "\n",
      "After: \n",
      " service_id            0\n",
      "service_name          0\n",
      "location              0\n",
      "status                0\n",
      "event_start_time      0\n",
      "event_end_time        0\n",
      "first_notification    0\n",
      "last_notification     0\n",
      "description           0\n",
      "vendor                0\n",
      "monitor               0\n",
      "org_type              0\n",
      "dtype: int64\n"
     ]
    }
   ],
   "source": [
    "temp_df = temp_df.replace(r'^\\s*$', np.NaN, regex=True)\n",
    "\n",
    "print('before: \\n', temp_df.isnull().sum(), '\\n')\n",
    "\n",
    "# fill empty cells\n",
    "temp_df['location'].replace([np.nan, ''], 'unknown', inplace=True)\n",
    "temp_df['service_id'].replace([np.nan, ''], 'unknown', inplace=True)\n",
    "temp_df['service_name'].replace([np.nan, ''], 'unknown', inplace=True)\n",
    "temp_df['description'].replace([np.nan, ''], 'unknown', inplace=True)\n",
    "temp_df['vendor'].replace([np.nan, ''], 'unknown', inplace=True)\n",
    "temp_df['monitor'].replace([np.nan, ''], 'unknown', inplace=True)\n",
    "temp_df['org_type'].replace([np.nan, ''], 'unknown', inplace=True)\n",
    "\n",
    "print('After: \\n', temp_df.isnull().sum())"
   ]
  },
  {
   "cell_type": "markdown",
   "metadata": {},
   "source": [
    "Remove old dated data"
   ]
  },
  {
   "cell_type": "code",
   "execution_count": 360,
   "metadata": {
    "pycharm": {
     "is_executing": false
    },
    "tags": []
   },
   "outputs": [
    {
     "name": "stdout",
     "output_type": "stream",
     "text": [
      "Reamining rows after duplicate remove in 2019 =  509\n",
      "Old rows removed now in  2020  =  386\n",
      "Remainng rows in  2020  =  123\n"
     ]
    }
   ],
   "source": [
    "# remove old dated data\n",
    "\n",
    "# 2020 first day = 1577836800\n",
    "# 2019 first day = 1546300800\n",
    "# 2018 first day = 1514764800\n",
    "\n",
    "# the difference in numbers in exc and this was due to duplicates. This also removes some duplicates while the exc doesnot remove them and count them more.\n",
    "\n",
    "i = 0\n",
    "j = 0\n",
    "\n",
    "df_old_dated = temp_df[0:0]\n",
    "\n",
    "print(\"Reamining rows after duplicate remove in 2019 = \",len(temp_df))\n",
    "\n",
    "while (i < len (temp_df) ):\n",
    "    if((temp_df.iat[i,4]) < str(utc_time) ):    \n",
    "        j = j + 1\n",
    "        \n",
    "        df_old_dated = df_old_dated.append({'service_id' : temp_df.iat[i,0] , 'service_name' : temp_df.iat[i,1], 'location' : temp_df.iat[i,2], 'status' : temp_df.iat[i,3], 'event_start_time' : int(temp_df.iat[i,4]), 'event_end_time' : int(temp_df.iat[i,5]), 'first_notification' : int(temp_df.iat[i,6]), 'last_notification' : int(temp_df.iat[i,7]), 'description' : temp_df.iat[i,8], 'vendor' : temp_df.iat[i,9] , 'monitor' : temp_df.iat[i,10], 'org_type' : temp_df.iat[i,11]}, ignore_index=True)\n",
    "\n",
    "        temp_df = temp_df.drop(temp_df.index[[i]], inplace = False)\n",
    "        temp_df = temp_df.reset_index(drop=True)\n",
    "        i = i - 3\n",
    "    \n",
    "    i = i + 1\n",
    "\n",
    "\n",
    "print(\"Old rows removed now in \", year_name, \" = \",j)\n",
    "print(\"Remainng rows in \", year_name, \" = \", len(temp_df))\n",
    "\n",
    "i = 0\n",
    "j = 0\n"
   ]
  },
  {
   "cell_type": "markdown",
   "metadata": {},
   "source": [
    "Stats after removing duplicates and also removing old dated rows"
   ]
  },
  {
   "cell_type": "code",
   "execution_count": 361,
   "metadata": {},
   "outputs": [
    {
     "data": {
      "text/plain": [
       "GCP      64\n",
       "AWS      42\n",
       "Azure    17\n",
       "Name: vendor, dtype: int64"
      ]
     },
     "execution_count": 361,
     "metadata": {},
     "output_type": "execute_result"
    }
   ],
   "source": [
    "temp_df.vendor.value_counts()"
   ]
  },
  {
   "cell_type": "code",
   "execution_count": 362,
   "metadata": {},
   "outputs": [
    {
     "name": "stdout",
     "output_type": "stream",
     "text": [
      "Before: \n",
      " service_id            object\n",
      "service_name          object\n",
      "location              object\n",
      "status                 int64\n",
      "event_start_time      object\n",
      "event_end_time        object\n",
      "first_notification    object\n",
      "last_notification     object\n",
      "description           object\n",
      "vendor                object\n",
      "monitor               object\n",
      "org_type              object\n",
      "dtype: object\n",
      "After: \n",
      " service_id            object\n",
      "service_name          object\n",
      "location              object\n",
      "status                 int64\n",
      "event_start_time       int32\n",
      "event_end_time         int32\n",
      "first_notification     int32\n",
      "last_notification      int32\n",
      "description           object\n",
      "vendor                object\n",
      "monitor               object\n",
      "org_type              object\n",
      "dtype: object\n"
     ]
    }
   ],
   "source": [
    "print('Before: \\n', temp_df.dtypes)\n",
    "temp_df['event_start_time'] = temp_df['event_start_time'].astype('int32')\n",
    "temp_df['event_end_time'] = temp_df['event_end_time'].astype('int32')\n",
    "temp_df['first_notification'] = temp_df['first_notification'].astype('int32')\n",
    "temp_df['last_notification'] = temp_df['last_notification'].astype('int32')\n",
    "\n",
    "print('After: \\n', temp_df.dtypes)"
   ]
  },
  {
   "cell_type": "markdown",
   "metadata": {},
   "source": [
    "We donot use first and last notification in analysis as they are missing in every year, expecially 119 missing in 2018."
   ]
  },
  {
   "cell_type": "code",
   "execution_count": 363,
   "metadata": {},
   "outputs": [
    {
     "name": "stdout",
     "output_type": "stream",
     "text": [
      "event_start_time < 0 =  0\n",
      "event_end_time < 0 =  0\n",
      "first_notification < 0 =  17\n",
      "last_notification < 0 =  17\n"
     ]
    }
   ],
   "source": [
    "print('event_start_time < 0 = ', len(temp_df[temp_df['event_start_time'] <= 0]))\n",
    "print('event_end_time < 0 = ', len(temp_df[temp_df['event_end_time'] <= 0]))\n",
    "print('first_notification < 0 = ', len(temp_df[temp_df['first_notification'] <= 0]))\n",
    "print('last_notification < 0 = ', len(temp_df[temp_df['last_notification'] <= 0]))"
   ]
  },
  {
   "cell_type": "code",
   "execution_count": 364,
   "metadata": {
    "pycharm": {
     "is_executing": false
    },
    "tags": []
   },
   "outputs": [
    {
     "name": "stdout",
     "output_type": "stream",
     "text": [
      "\n",
      "Unix Timestamp:  1583249400.0\n",
      "\n"
     ]
    }
   ],
   "source": [
    "# convert normal date to unix time stamp\n",
    "import datetime\n",
    "import time\n",
    "dt = pd.to_datetime(temp_df.iat[0,4],unit='s')\n",
    "print()\n",
    "print(\"Unix Timestamp: \",(time.mktime(dt.timetuple())))\n",
    "print()\n"
   ]
  },
  {
   "cell_type": "code",
   "execution_count": 365,
   "metadata": {
    "pycharm": {
     "is_executing": false
    },
    "tags": []
   },
   "outputs": [
    {
     "name": "stdout",
     "output_type": "stream",
     "text": [
      "Reamining rows after duplicate and old date remove =  123\n",
      "fix2 last notification is before first notification row =  3\n",
      "fix2 last notification is before first notification row =  29\n",
      "fix1 event end time is before the event start time row =  43\n",
      "fix2 last notification is before first notification row =  43\n",
      "fix1 event end time is before the event start time row =  44\n",
      "fix2 last notification is before first notification row =  44\n",
      "fix2 last notification is before first notification row =  47\n",
      "remove2 Corrupted discription at row =  51\n",
      "remove2 Corrupted discription at row =  51\n",
      "remove2 Corrupted discription at row =  51\n",
      "remove2 Corrupted discription at row =  51\n",
      "remove1 same event start and end time at row =  62\n",
      "remove1 same event start and end time at row =  86\n",
      "remove1 same event start and end time at row =  91\n",
      "remove1 same event start and end time at row =  96\n",
      "remove1 same event start and end time at row =  109\n",
      "total same start and end time in  2020  =  5\n",
      "Remainng rows in  2020  =  114\n"
     ]
    }
   ],
   "source": [
    "# fix incorrect time rows\n",
    "\n",
    "i = 0\n",
    "df_same_start_end_time = temp_df[0:0]\n",
    "\n",
    "print(\"Reamining rows after duplicate and old date remove = \",len(temp_df))\n",
    "\n",
    "while (i < len (temp_df) ):\n",
    "\n",
    "    # check for rows with same start and end time\n",
    "    if((temp_df.iat[i,4]) == (temp_df.iat[i,5]) ):    \n",
    "\n",
    "        print('remove1 same event start and end time at row = ', i)\n",
    "                \n",
    "        df_same_start_end_time = df_same_start_end_time.append({'service_id' : temp_df.iat[i,0] , 'service_name' : temp_df.iat[i,1], 'location' : temp_df.iat[i,2], 'status' : temp_df.iat[i,3], 'event_start_time' : int(temp_df.iat[i,4]), 'event_end_time' : int(temp_df.iat[i,5]), 'first_notification' : int(temp_df.iat[i,6]), 'last_notification' : int(temp_df.iat[i,7]), 'description' : temp_df.iat[i,8], 'vendor' : temp_df.iat[i,9] , 'monitor' : temp_df.iat[i,10], 'org_type' : temp_df.iat[i,11]}, ignore_index=True)\n",
    "\n",
    "        temp_df = temp_df.drop(temp_df.index[[i]], inplace = False)\n",
    "        temp_df = temp_df.reset_index(drop=True)\n",
    "        i = i - 3\n",
    "\n",
    "    # if event end time is beofre the event start time\n",
    "    if( int(temp_df.iat[i,5]) < int(temp_df.iat[i,4]) ):  \n",
    "\n",
    "        # convert end time to 24 hour time by adding the seconds in 12 hours to the unix form.\n",
    "\n",
    "        temp_df.iat[i,5] = int( temp_df.iat[i,5] ) + 43200   \n",
    "        print('fix1 event end time is before the event start time row = ', i)\n",
    "\n",
    "\n",
    "    # if last notification is beofre the first notification\n",
    "    if( int(temp_df.iat[i,7]) < int(temp_df.iat[i,6]) ):  \n",
    "\n",
    "        # convert end time to 24 hour time by adding the seconds in 12 hours to the unix form.\n",
    "\n",
    "        temp_df.iat[i,7] = int( temp_df.iat[i,7] ) + 86400   \n",
    "        print('fix2 last notification is before first notification row = ', i)\n",
    "\n",
    "\n",
    "    if re.search('ま', str(temp_df.iat[i,8]) , re.IGNORECASE):\n",
    "        \n",
    "        print('remove2 Corrupted discription at row = ', i)\n",
    "        \n",
    "        temp_df = temp_df.drop(temp_df.index[[i]], inplace = False)\n",
    "        temp_df = temp_df.reset_index(drop=True)\n",
    "        i = i - 3\n",
    "\n",
    "        \n",
    "    i = i + 1\n",
    "\n",
    "print(\"total same start and end time in \", year_name, \" = \",len(df_same_start_end_time))\n",
    "print(\"Remainng rows in \", year_name, \" = \", len(temp_df))"
   ]
  },
  {
   "cell_type": "markdown",
   "metadata": {},
   "source": [
    "<h2>Feature Derivation</h2>"
   ]
  },
  {
   "cell_type": "markdown",
   "metadata": {},
   "source": [
    "Event duration hours derive from event start and end time"
   ]
  },
  {
   "cell_type": "code",
   "execution_count": 366,
   "metadata": {
    "pycharm": {
     "is_executing": false
    }
   },
   "outputs": [],
   "source": [
    "# add empty NAN column at a specific position\n",
    "\n",
    "temp_df['event_duration_hours'] = np.nan\n",
    "\n",
    "# put columns in specific order\n",
    "\n",
    "temp_df = temp_df[['service_id', 'service_name', 'location', 'status', 'event_start_time', 'event_end_time', 'event_duration_hours', 'first_notification', 'last_notification', 'description', 'vendor', 'monitor', 'org_type']]\n",
    "\n",
    "# 'service_id', 'service_name', 'location', 'status', 'event_start_time', 'event_end_time', 'first_notification', 'last_notification', 'description', 'vendor', 'monitor', 'org_type'"
   ]
  },
  {
   "cell_type": "code",
   "execution_count": 367,
   "metadata": {
    "pycharm": {
     "is_executing": false
    }
   },
   "outputs": [],
   "source": [
    "# calculate event duration in hours and rounded up\n",
    "import math\n",
    "i = 0\n",
    "\n",
    "event_start_time_col_index = temp_df.columns.get_loc(\"event_start_time\")\n",
    "event_end_time_col_index = temp_df.columns.get_loc(\"event_end_time\")\n",
    "event_duration_col_index = temp_df.columns.get_loc(\"event_duration_hours\")\n",
    "\n",
    "while (i < len(temp_df)):\n",
    "    temp_df.iat[i, event_duration_col_index] = int( temp_df.iat[i, event_end_time_col_index] ) - int( temp_df.iat[i, event_start_time_col_index] ) # seconds\n",
    "\n",
    "    temp_df.iat[i, event_duration_col_index] = temp_df.iat[i, event_duration_col_index] / 3600 # hours in decimal\n",
    "    \n",
    "    temp_df.iat[i, event_duration_col_index] = math.ceil( temp_df.iat[i, event_duration_col_index] ) # round up\n",
    "\n",
    "    i = i + 1"
   ]
  },
  {
   "cell_type": "markdown",
   "metadata": {},
   "source": [
    "Convert timestamp to datetime"
   ]
  },
  {
   "cell_type": "code",
   "execution_count": 368,
   "metadata": {
    "pycharm": {
     "is_executing": false
    }
   },
   "outputs": [],
   "source": [
    "# convert utc timestanp to date\n",
    "temp_df['event_start_time'] = pd.to_datetime(temp_df['event_start_time'],unit='s')\n",
    "temp_df['event_end_time'] = pd.to_datetime(temp_df['event_end_time'],unit='s')\n",
    "temp_df['first_notification'] = pd.to_datetime(temp_df['first_notification'],unit='s')\n",
    "temp_df['last_notification'] = pd.to_datetime(temp_df['last_notification'],unit='s')"
   ]
  },
  {
   "cell_type": "markdown",
   "metadata": {},
   "source": [
    "Function to seperate vendors from each file"
   ]
  },
  {
   "cell_type": "code",
   "execution_count": 369,
   "metadata": {},
   "outputs": [],
   "source": [
    "def seperate_vendor_from_all_data(all_data_df):\n",
    "    df_aws_only = temp_df\n",
    "    df_azure_only = temp_df\n",
    "    df_gcp_only = temp_df\n",
    "\n",
    "    print('Total rows = ', len(temp_df))\n",
    "\n",
    "    vendor_col_index = df_aws_only.columns.get_loc(\"vendor\")\n",
    "\n",
    "    i = 0\n",
    "    while (i < len(df_aws_only)):\n",
    "        if (df_aws_only.iat[i, vendor_col_index] != 'AWS'):\n",
    "            df_aws_only = df_aws_only.drop( df_aws_only.index[i] )\n",
    "            df_aws_only = df_aws_only.reset_index(drop=True)\n",
    "            i = i - 1\n",
    "        i = i + 1\n",
    "\n",
    "    i = 0\n",
    "    while (i < len(df_azure_only)):\n",
    "        if (df_azure_only.iat[i, vendor_col_index] != 'Azure'):\n",
    "            df_azure_only = df_azure_only.drop( df_azure_only.index[i] )\n",
    "            df_azure_only = df_azure_only.reset_index(drop=True)\n",
    "            i = i - 1\n",
    "        i = i + 1\n",
    "\n",
    "    i = 0\n",
    "    while (i < len(df_gcp_only)):\n",
    "        if (df_gcp_only.iat[i, vendor_col_index] != 'GCP'):\n",
    "            df_gcp_only = df_gcp_only.drop( df_gcp_only.index[i] )\n",
    "            df_gcp_only = df_gcp_only.reset_index(drop=True)\n",
    "            i = i - 1\n",
    "        i = i + 1\n",
    "\n",
    "    print('len df_aws_only = ', len(df_aws_only))\n",
    "    print('len df_azure_only = ', len(df_azure_only))\n",
    "    print('len df_gcp_only = ', len(df_gcp_only))\n",
    "\n",
    "    print('Check total rows = ', len(df_aws_only) + len(df_azure_only) + len(df_gcp_only))\n",
    "    \n",
    "    return df_aws_only, df_azure_only, df_gcp_only"
   ]
  },
  {
   "cell_type": "code",
   "execution_count": 370,
   "metadata": {
    "pycharm": {
     "is_executing": false
    },
    "tags": []
   },
   "outputs": [
    {
     "name": "stdout",
     "output_type": "stream",
     "text": [
      "Total rows =  114\n",
      "len df_aws_only =  38\n",
      "len df_azure_only =  17\n",
      "len df_gcp_only =  59\n",
      "Check total rows =  114\n"
     ]
    }
   ],
   "source": [
    "# seperate data frames for seperate vendors\n",
    "# to save later\n",
    "df_aws_only = temp_df\n",
    "df_azure_only = temp_df\n",
    "df_gcp_only = temp_df\n",
    "\n",
    "print('Total rows = ', len(temp_df))\n",
    "\n",
    "vendor_col_index = df_aws_only.columns.get_loc(\"vendor\")\n",
    "\n",
    "i = 0\n",
    "while (i < len(df_aws_only)):\n",
    "    if (df_aws_only.iat[i, vendor_col_index] != 'AWS'):\n",
    "        df_aws_only = df_aws_only.drop( df_aws_only.index[i] )\n",
    "        df_aws_only = df_aws_only.reset_index(drop=True)\n",
    "        i = i - 1\n",
    "    i = i + 1\n",
    "\n",
    "i = 0\n",
    "while (i < len(df_azure_only)):\n",
    "    if (df_azure_only.iat[i, vendor_col_index] != 'Azure'):\n",
    "        df_azure_only = df_azure_only.drop( df_azure_only.index[i] )\n",
    "        df_azure_only = df_azure_only.reset_index(drop=True)\n",
    "        i = i - 1\n",
    "    i = i + 1\n",
    "\n",
    "i = 0\n",
    "while (i < len(df_gcp_only)):\n",
    "    if (df_gcp_only.iat[i, vendor_col_index] != 'GCP'):\n",
    "        df_gcp_only = df_gcp_only.drop( df_gcp_only.index[i] )\n",
    "        df_gcp_only = df_gcp_only.reset_index(drop=True)\n",
    "        i = i - 1\n",
    "    i = i + 1\n",
    "\n",
    "print('len df_aws_only = ', len(df_aws_only))\n",
    "print('len df_azure_only = ', len(df_azure_only))\n",
    "print('len df_gcp_only = ', len(df_gcp_only))\n",
    "\n",
    "print('Check total rows = ', len(df_aws_only) + len(df_azure_only) + len(df_gcp_only))"
   ]
  },
  {
   "cell_type": "code",
   "execution_count": 371,
   "metadata": {
    "pycharm": {
     "is_executing": false
    }
   },
   "outputs": [
    {
     "data": {
      "text/plain": [
       "service_id              0\n",
       "service_name            0\n",
       "location                0\n",
       "status                  0\n",
       "event_start_time        0\n",
       "event_end_time          0\n",
       "event_duration_hours    0\n",
       "first_notification      0\n",
       "last_notification       0\n",
       "description             0\n",
       "vendor                  0\n",
       "monitor                 0\n",
       "org_type                0\n",
       "dtype: int64"
      ]
     },
     "execution_count": 371,
     "metadata": {},
     "output_type": "execute_result"
    }
   ],
   "source": [
    "# check empty cells (validate)\n",
    "# temp_df = temp_df.replace(r'^\\s*$', np.NaN, regex=True)\n",
    "\n",
    "temp_df.isna().sum()    # check for empty cells in each column. To get correct result for this, donot fill the empty cells in above code"
   ]
  },
  {
   "cell_type": "markdown",
   "metadata": {},
   "source": [
    "<h3>To output cleaned data</h3>"
   ]
  },
  {
   "cell_type": "code",
   "execution_count": 372,
   "metadata": {
    "pycharm": {
     "is_executing": false
    }
   },
   "outputs": [],
   "source": [
    "# temp_df.to_csv('2020_all_data.csv')\n",
    "# temp_df.to_parquet('2020_all_data.parquet')\n",
    "# df_aws_only.to_csv('2018_aws.csv')\n",
    "# df_azure_only.to_csv('2018_azure.csv')\n",
    "# df_gcp_only.to_csv('2018_gcp.csv')\n",
    "\n",
    "# df_empty.to_parquet('2020_duplicates.parquet' , 'pyarrow')"
   ]
  },
  {
   "cell_type": "code",
   "execution_count": null,
   "metadata": {
    "pycharm": {
     "is_executing": false
    }
   },
   "outputs": [],
   "source": []
  },
  {
   "cell_type": "code",
   "execution_count": 373,
   "metadata": {
    "pycharm": {
     "is_executing": false
    }
   },
   "outputs": [],
   "source": [
    "#####################################################################################################"
   ]
  },
  {
   "cell_type": "markdown",
   "metadata": {},
   "source": [
    "<h2>Stats and Analysis</h2>"
   ]
  },
  {
   "cell_type": "code",
   "execution_count": 374,
   "metadata": {
    "pycharm": {
     "is_executing": false
    }
   },
   "outputs": [],
   "source": [
    "# Part 1 \n",
    "# Data check"
   ]
  },
  {
   "cell_type": "code",
   "execution_count": 375,
   "metadata": {
    "pycharm": {
     "is_executing": false
    },
    "tags": []
   },
   "outputs": [
    {
     "name": "stdout",
     "output_type": "stream",
     "text": [
      "['East US' 'Ireland' 'Multi-region' 'Mumbai' 'N. California' 'N. Virginia'\n",
      " 'Oregon' 'Paris' 'South Central US' 'Sydney' 'US Government Cloud'\n",
      " 'US-West' 'West Central US' 'unknown']\n"
     ]
    }
   ],
   "source": [
    "# check unique value in a column \n",
    "arr = temp_df[\"location\"].unique() \n",
    "  \n",
    "# printing array \n",
    "print(arr) "
   ]
  },
  {
   "cell_type": "code",
   "execution_count": 376,
   "metadata": {
    "pycharm": {
     "is_executing": false
    },
    "tags": []
   },
   "outputs": [
    {
     "name": "stdout",
     "output_type": "stream",
     "text": [
      "['unknown' 'lambda-eu-west-1' 'chime' 'cloudfront' 'iam' 'marketplace'\n",
      " 'route53' 'rds-ap-south-1' 'batch-us-west-1' 'ecs-us-west-1'\n",
      " 'certificatemanager-us-east-1' 'cloudwatch-us-east-1' 'ec2-us-east-1'\n",
      " 'elasticsearch-us-east-1' 'elb-us-east-1' 'ses-us-east-1' 'sqs-us-east-1'\n",
      " 'cloudformation-us-west-2' 'codebuild-us-west-2' 'ecr-us-west-2'\n",
      " 'ec2-eu-west-3' 'internetconnectivity-eu-west-3'\n",
      " 'appstream2-ap-southeast-2' 'ec2-ap-southeast-2'\n",
      " 'elasticache-ap-southeast-2' 'elb-ap-southeast-2' 'lambda-ap-southeast-2'\n",
      " 'rds-ap-southeast-2' 'workspaces-ap-southeast-2'\n",
      " 'autoscaling-us-gov-west-1' 'ec2-us-gov-west-1' 'appengine'\n",
      " 'asset-inventory' 'bigquery' 'cloud-data-fusion' 'cloud-dataflow'\n",
      " 'cloud-dataproc' 'cloud-filestore' 'cloud-firestore' 'cloud-functions'\n",
      " 'cloud-iam' 'cloud-kms' 'cloud-memorystore' 'cloud-ml' 'cloud-networking'\n",
      " 'cloud-pubsub' 'cloud-run' 'cloud-spanner' 'cloud-sql' 'composer'\n",
      " 'compute' 'container-engine' 'developers-console' 'google-stackdriver'\n",
      " 'storage' 'zall']\n"
     ]
    }
   ],
   "source": [
    "# storing unique value in a variable \n",
    "arr = temp_df[\"service_id\"].unique() \n",
    "  \n",
    "# printing array \n",
    "print(arr) "
   ]
  },
  {
   "cell_type": "code",
   "execution_count": 377,
   "metadata": {
    "pycharm": {
     "is_executing": false
    },
    "tags": []
   },
   "outputs": [
    {
     "name": "stdout",
     "output_type": "stream",
     "text": [
      "  service_id service_name location  status    event_start_time  \\\n",
      "0    unknown          all  East US      -1 2020-03-03 15:30:00   \n",
      "\n",
      "       event_end_time  event_duration_hours  first_notification  \\\n",
      "0 2020-03-03 22:00:00                   7.0 1969-12-31 23:59:59   \n",
      "\n",
      "    last_notification  \\\n",
      "0 1969-12-31 23:59:59   \n",
      "\n",
      "                                                                                                                                                                                                                                                                                                                                                                                                                                                                                                                                                                                                                                                                                                                                                                                                                                                                                                                                                                                                                                                                                                                                                                                                                                                                                                                                                                                                                                                                                                                                                                                                                                                                                                                                                                                                                                                                                                                                                                                                                                                                                                                                                                                                                                                                    description  \\\n",
      "0  \\nRCA- Issues connecting to resources in East US (Tracking ID 9SS0-VT8)\\nSummary of Impact: Between 15:30 and 22:00 UTC on 03 March 2020, a subset of customers in East US may have experienced issues connecting to resources in this region. Root Cause: A malfunction in building automation control caused temperatures in multiple rooms of a data center in the East US region to spike impacting Storage, Compute, Networking and other dependent services. Although the cooling system has N+1 redundancy, the automation failure resulted in a significant reduction in cooling air flow. This caused a cascade of events which caused network devices to become unresponsive, VMs to shutdown, and some storage hardware to go offline. Mitigation: The malfunction in the building automation control was fixed by resetting the controllers for the cooling system. Due to the nature of the automation failure, each cooling unit had to be manually reset. By 16:00 UTC the cooling controller was back online and ambient temperatures and air flow had returned to normal ranges. Engineers then power cycled and restored failed server hardware in groups to restore services in the region. After recovery of the building and network infrastructure, engineers recovered storage hardware and compute VMs that did not recover automatically.  By 22:00 UTC, 99.999% of affected VMs were back up and running. Availability of all storage data was restored.Next steps: We sincerely apologize for the impact to affected customers. We are continuously taking steps to improve the Microsoft Azure Platform and our processes to help ensure such incidents do not occur in the future. In this case, this includes (but is not limited to):Review of the building automation control system responsible for this incident, mitigation of any issues if found, and application of the mitigation to other data centers with the same control systemReview of mechanical cooling system, mitigation of any issues if found, and application of the mitigation to other data centers with the same cooling system.Provide Feedback: Please help us improve the Azure customer communications experience by taking our survey https://aka.ms/9SS0-VT8\\n   \n",
      "\n",
      "  vendor monitor org_type  \n",
      "0  Azure   Azure    cloud  \n"
     ]
    }
   ],
   "source": [
    "print(temp_df.loc[[0]])"
   ]
  },
  {
   "cell_type": "code",
   "execution_count": 378,
   "metadata": {
    "pycharm": {
     "is_executing": false
    }
   },
   "outputs": [],
   "source": [
    "# Part 2"
   ]
  },
  {
   "cell_type": "code",
   "execution_count": 379,
   "metadata": {
    "pycharm": {
     "is_executing": false
    },
    "tags": []
   },
   "outputs": [
    {
     "name": "stdout",
     "output_type": "stream",
     "text": [
      "Discription of Columns\n",
      "Column Name: service_id\n",
      "count         114\n",
      "unique         56\n",
      "top       unknown\n",
      "freq           17\n",
      "Name: service_id, dtype: object\n",
      "-------------\n",
      "Column Name: service_name\n",
      "count                                        114\n",
      "unique                                        59\n",
      "top       Google Cloud Infrastructure Components\n",
      "freq                                           7\n",
      "Name: service_name, dtype: object\n",
      "-------------\n",
      "Column Name: location\n",
      "count         114\n",
      "unique         14\n",
      "top       unknown\n",
      "freq           59\n",
      "Name: location, dtype: object\n",
      "-------------\n",
      "Column Name: status\n",
      "count    114.000000\n",
      "mean       0.684211\n",
      "std        0.767893\n",
      "min       -1.000000\n",
      "25%        1.000000\n",
      "50%        1.000000\n",
      "75%        1.000000\n",
      "max        2.000000\n",
      "Name: status, dtype: float64\n",
      "-------------\n",
      "Column Name: event_start_time\n",
      "count                     114\n",
      "unique                    110\n",
      "top       2020-01-22 02:00:00\n",
      "freq                        2\n",
      "first     2020-01-07 14:35:48\n",
      "last      2020-06-12 00:00:00\n",
      "Name: event_start_time, dtype: object\n",
      "-------------\n",
      "Column Name: event_end_time\n",
      "count                     114\n",
      "unique                    109\n",
      "top       2020-01-22 03:28:00\n",
      "freq                        2\n",
      "first     2020-01-07 19:10:19\n",
      "last      2020-06-12 04:41:00\n",
      "Name: event_end_time, dtype: object\n",
      "-------------\n",
      "Column Name: event_duration_hours\n",
      "count    114.000000\n",
      "mean       5.149123\n",
      "std        5.062848\n",
      "min        1.000000\n",
      "25%        2.000000\n",
      "50%        3.000000\n",
      "75%        7.000000\n",
      "max       29.000000\n",
      "Name: event_duration_hours, dtype: float64\n",
      "-------------\n",
      "Column Name: first_notification\n",
      "count                     114\n",
      "unique                     94\n",
      "top       1969-12-31 23:59:59\n",
      "freq                       17\n",
      "first     1969-12-31 23:59:59\n",
      "last      2020-05-22 08:48:00\n",
      "Name: first_notification, dtype: object\n",
      "-------------\n",
      "Column Name: last_notification\n",
      "count                     114\n",
      "unique                     96\n",
      "top       1969-12-31 23:59:59\n",
      "freq                       17\n",
      "first     1969-12-31 23:59:59\n",
      "last      2020-05-22 08:48:00\n",
      "Name: last_notification, dtype: object\n",
      "-------------\n",
      "Column Name: description\n",
      "count                                                                                                                                                                                                                                                                                                                                                                                                                                                                                                                                                                                                                                                                                                                                                                                                                                                                                                                                                                                                                                 114\n",
      "unique                                                                                                                                                                                                                                                                                                                                                                                                                                                                                                                                                                                                                                                                                                                                                                                                                                                                                                                                                                                                                                112\n",
      "top       We've received a report of an issue with Stackdriver Monitoring[{'created': '2020-01-18T10:00:35Z', 'modified': '2020-01-18T10:00:35Z', 'text': \"The issue with Stackdriver Monitoring has been resolved for all affected projects as of Saturday, 2020-01-18 01:53 US/Pacific.\\n\\nWe thank you for your patience while we've worked on resolving the issue.\", 'when': '2020-01-18T10:00:35Z'}, {'created': '2020-01-18T07:53:37Z', 'modified': '2020-01-18T07:53:37Z', 'text': 'Description: We are investigating a potential issue with Stackdriver Monitoring affecting the us-west2 region.\\n\\nWe will provide more information by Saturday, 2020-01-18 02:00 US/Pacific.', 'when': '2020-01-18T07:53:37Z'}, {'created': '2020-01-18T07:11:56Z', 'modified': '2020-01-18T07:11:56Z', 'text': 'Description: We are investigating a potential issue with Stackdriver Monitoring affecting the us-west2 region.\\n\\nWe will provide more information by Friday, 2020-01-17 23:49 US/Pacific.', 'when': '2020-01-18T07:11:55Z'}]\n",
      "freq                                                                                                                                                                                                                                                                                                                                                                                                                                                                                                                                                                                                                                                                                                                                                                                                                                                                                                                                                                                                                                    2\n",
      "Name: description, dtype: object\n",
      "-------------\n",
      "Column Name: vendor\n",
      "count     114\n",
      "unique      3\n",
      "top       GCP\n",
      "freq       59\n",
      "Name: vendor, dtype: object\n",
      "-------------\n",
      "Column Name: monitor\n",
      "count     114\n",
      "unique      3\n",
      "top       GCP\n",
      "freq       59\n",
      "Name: monitor, dtype: object\n",
      "-------------\n",
      "Column Name: org_type\n",
      "count       114\n",
      "unique        1\n",
      "top       cloud\n",
      "freq        114\n",
      "Name: org_type, dtype: object\n",
      "-------------\n"
     ]
    },
    {
     "name": "stderr",
     "output_type": "stream",
     "text": [
      "C:\\Users\\mahsa\\Documents\\anaconda3\\envs\\python_environment_2\\lib\\site-packages\\ipykernel_launcher.py:8: FutureWarning: Treating datetime data as categorical rather than numeric in `.describe` is deprecated and will be removed in a future version of pandas. Specify `datetime_is_numeric=True` to silence this warning and adopt the future behavior now.\n",
      "  \n"
     ]
    }
   ],
   "source": [
    "# Column discription\n",
    "# iterating the columns \n",
    "\n",
    "print('Discription of Columns')\n",
    "for col_name in temp_df.columns: \n",
    "    print('Column Name:', col_name)\n",
    "    \n",
    "    print(temp_df[col_name].describe() )\n",
    "\n",
    "    print('-------------')\n"
   ]
  },
  {
   "cell_type": "code",
   "execution_count": 380,
   "metadata": {
    "pycharm": {
     "is_executing": false
    }
   },
   "outputs": [
    {
     "data": {
      "text/plain": [
       "count         114\n",
       "unique         56\n",
       "top       unknown\n",
       "freq           17\n",
       "Name: service_id, dtype: object"
      ]
     },
     "execution_count": 380,
     "metadata": {},
     "output_type": "execute_result"
    }
   ],
   "source": [
    "temp_df.service_id.describe()"
   ]
  },
  {
   "cell_type": "code",
   "execution_count": 381,
   "metadata": {
    "pycharm": {
     "is_executing": false
    },
    "tags": []
   },
   "outputs": [
    {
     "name": "stdout",
     "output_type": "stream",
     "text": [
      "Counting unique values\n",
      "Column Name: service_id\n",
      "unknown                           17\n",
      "zall                               7\n",
      "google-stackdriver                 6\n",
      "developers-console                 4\n",
      "composer                           4\n",
      "cloudfront                         4\n",
      "bigquery                           3\n",
      "cloud-functions                    3\n",
      "cloud-dataproc                     3\n",
      "compute                            3\n",
      "appengine                          2\n",
      "ec2-ap-southeast-2                 2\n",
      "cloud-dataflow                     2\n",
      "cloud-ml                           2\n",
      "cloud-networking                   2\n",
      "elb-us-east-1                      2\n",
      "cloud-spanner                      2\n",
      "cloud-sql                          2\n",
      "ec2-us-east-1                      2\n",
      "certificatemanager-us-east-1       2\n",
      "container-engine                   2\n",
      "route53                            2\n",
      "storage                            2\n",
      "cloud-firestore                    2\n",
      "cloud-data-fusion                  1\n",
      "cloud-filestore                    1\n",
      "chime                              1\n",
      "cloud-iam                          1\n",
      "cloud-kms                          1\n",
      "cloud-memorystore                  1\n",
      "cloud-run                          1\n",
      "cloud-pubsub                       1\n",
      "autoscaling-us-gov-west-1          1\n",
      "asset-inventory                    1\n",
      "cloudformation-us-west-2           1\n",
      "iam                                1\n",
      "marketplace                        1\n",
      "rds-ap-south-1                     1\n",
      "batch-us-west-1                    1\n",
      "ecs-us-west-1                      1\n",
      "cloudwatch-us-east-1               1\n",
      "elasticsearch-us-east-1            1\n",
      "ses-us-east-1                      1\n",
      "sqs-us-east-1                      1\n",
      "codebuild-us-west-2                1\n",
      "ec2-us-gov-west-1                  1\n",
      "ecr-us-west-2                      1\n",
      "ec2-eu-west-3                      1\n",
      "internetconnectivity-eu-west-3     1\n",
      "appstream2-ap-southeast-2          1\n",
      "elasticache-ap-southeast-2         1\n",
      "elb-ap-southeast-2                 1\n",
      "lambda-ap-southeast-2              1\n",
      "rds-ap-southeast-2                 1\n",
      "lambda-eu-west-1                   1\n",
      "workspaces-ap-southeast-2          1\n",
      "Name: service_id, dtype: int64\n",
      "-------------\n",
      "Column Name: service_name\n",
      "Google Cloud Infrastructure Components                                                                      7\n",
      "Amazon Elastic Compute Cloud                                                                                6\n",
      "Operations                                                                                                  4\n",
      "Google Cloud Console                                                                                        4\n",
      "Google Cloud Composer                                                                                       4\n",
      "all                                                                                                         4\n",
      "Amazon CloudFront                                                                                           4\n",
      "Google Cloud Dataproc                                                                                       3\n",
      "Google BigQuery                                                                                             3\n",
      "Google Cloud Functions                                                                                      3\n",
      "Network                                                                                                     3\n",
      "Amazon Elastic Load Balancing                                                                               3\n",
      "Google Compute Engine                                                                                       3\n",
      "Google Cloud SQL                                                                                            2\n",
      "Google App Engine                                                                                           2\n",
      "Cloud Firestore                                                                                             2\n",
      "Azure connectivity issues                                                                                   2\n",
      "AWS Lambda                                                                                                  2\n",
      "Cloud Machine Learning                                                                                      2\n",
      "Google Cloud Dataflow                                                                                       2\n",
      "Amazon Route 53                                                                                             2\n",
      "Service Management/Authentication Errors                                                                    2\n",
      "AWS Certificate Manager                                                                                     2\n",
      "Google Cloud Storage                                                                                        2\n",
      "SQL Database and dependent services                                                                         2\n",
      "Google Stackdriver                                                                                          2\n",
      "Azure Portal                                                                                                2\n",
      "Cloud Spanner                                                                                               2\n",
      "Amazon Relational Database Service                                                                          2\n",
      "Google Kubernetes Engine                                                                                    2\n",
      "Cloud Key Management Service                                                                                1\n",
      "Cloud Memorystore                                                                                           1\n",
      "Identity and Access Management                                                                              1\n",
      "Google Cloud Pub/Sub                                                                                        1\n",
      "Amazon Chime                                                                                                1\n",
      "Cloud Run                                                                                                   1\n",
      "Cloud Filestore                                                                                             1\n",
      "AWS Identity and Access Management                                                                          1\n",
      "Amazon WorkSpaces                                                                                           1\n",
      "Cloud Data Fusion                                                                                           1\n",
      "Cloud Asset Inventory                                                                                       1\n",
      "Service Management Failures for Application Gateway, Azure Bastion, and Azure Firewall (Tracking ID HT3R    1\n",
      "Cross                                                                                                       1\n",
      "Microsoft Government Cloud resources                                                                        1\n",
      "MSA Login Failures                                                                                          1\n",
      "AWS Batch                                                                                                   1\n",
      "Amazon Elastic Container Service                                                                            1\n",
      "Amazon CloudWatch                                                                                           1\n",
      "AWS Marketplace                                                                                             1\n",
      "Amazon Elasticsearch Service                                                                                1\n",
      "Amazon Simple Email Service                                                                                 1\n",
      "Amazon Simple Queue Service                                                                                 1\n",
      "AWS CloudFormation                                                                                          1\n",
      "AWS CodeBuild                                                                                               1\n",
      "Amazon Elastic Container Registry                                                                           1\n",
      "Amazon AppStream 2.0                                                                                        1\n",
      "Amazon ElastiCache                                                                                          1\n",
      "Auto Scaling                                                                                                1\n",
      "AWS Internet Connectivity                                                                                   1\n",
      "Name: service_name, dtype: int64\n",
      "-------------\n",
      "Column Name: location\n",
      "unknown                59\n",
      "Multi-region           22\n",
      "N. Virginia            10\n",
      "Sydney                  8\n",
      "Oregon                  3\n",
      "N. California           2\n",
      "Paris                   2\n",
      "US-West                 2\n",
      "East US                 1\n",
      "Ireland                 1\n",
      "Mumbai                  1\n",
      "South Central US        1\n",
      "US Government Cloud     1\n",
      "West Central US         1\n",
      "Name: location, dtype: int64\n",
      "-------------\n",
      "Column Name: status\n",
      " 1    87\n",
      "-1    17\n",
      " 0     6\n",
      " 2     4\n",
      "Name: status, dtype: int64\n",
      "-------------\n",
      "Column Name: event_start_time\n",
      "skip column\n",
      "Column Name: event_end_time\n",
      "skip column\n",
      "Column Name: event_duration_hours\n",
      "2.0     30\n",
      "1.0     18\n",
      "3.0     15\n",
      "4.0     11\n",
      "7.0      8\n",
      "14.0     7\n",
      "6.0      5\n",
      "5.0      4\n",
      "8.0      3\n",
      "11.0     3\n",
      "13.0     2\n",
      "9.0      2\n",
      "20.0     2\n",
      "19.0     1\n",
      "15.0     1\n",
      "29.0     1\n",
      "12.0     1\n",
      "Name: event_duration_hours, dtype: int64\n",
      "-------------\n",
      "Column Name: first_notification\n",
      "skip column\n",
      "Column Name: last_notification\n",
      "skip column\n",
      "Column Name: description\n",
      "skip column\n",
      "Column Name: vendor\n",
      "GCP      59\n",
      "AWS      38\n",
      "Azure    17\n",
      "Name: vendor, dtype: int64\n",
      "-------------\n",
      "Column Name: monitor\n",
      "GCP      59\n",
      "AWS      38\n",
      "Azure    17\n",
      "Name: monitor, dtype: int64\n",
      "-------------\n",
      "Column Name: org_type\n",
      "cloud    114\n",
      "Name: org_type, dtype: int64\n",
      "-------------\n"
     ]
    }
   ],
   "source": [
    "print('Counting unique values')\n",
    "\n",
    "# iterating the columns \n",
    "for col_name in temp_df.columns: \n",
    "    print('Column Name:', col_name)\n",
    "\n",
    "    if (col_name == 'description' or col_name == 'first_notification' or col_name == 'last_notification' or col_name == 'event_start_time' \n",
    "    or col_name == 'event_end_time' or col_name == 'half_desc' ):\n",
    "        print('skip column')\n",
    "        \n",
    "    else:\n",
    "        # print('Column Name:', col_name)\n",
    "        \n",
    "        print(temp_df[col_name].value_counts() )\n",
    "\n",
    "        print('-------------')"
   ]
  },
  {
   "cell_type": "code",
   "execution_count": 382,
   "metadata": {
    "pycharm": {
     "is_executing": false
    }
   },
   "outputs": [
    {
     "data": {
      "text/plain": [
       "unknown                59\n",
       "Multi-region           22\n",
       "N. Virginia            10\n",
       "Sydney                  8\n",
       "Oregon                  3\n",
       "N. California           2\n",
       "Paris                   2\n",
       "US-West                 2\n",
       "East US                 1\n",
       "Ireland                 1\n",
       "Mumbai                  1\n",
       "South Central US        1\n",
       "US Government Cloud     1\n",
       "West Central US         1\n",
       "Name: location, dtype: int64"
      ]
     },
     "execution_count": 382,
     "metadata": {},
     "output_type": "execute_result"
    }
   ],
   "source": [
    "temp_df.location.value_counts()"
   ]
  },
  {
   "cell_type": "code",
   "execution_count": 383,
   "metadata": {
    "pycharm": {
     "is_executing": false
    }
   },
   "outputs": [
    {
     "data": {
      "text/plain": [
       "service_id                      object\n",
       "service_name                    object\n",
       "location                        object\n",
       "status                           int64\n",
       "event_start_time        datetime64[ns]\n",
       "event_end_time          datetime64[ns]\n",
       "event_duration_hours           float64\n",
       "first_notification      datetime64[ns]\n",
       "last_notification       datetime64[ns]\n",
       "description                     object\n",
       "vendor                          object\n",
       "monitor                         object\n",
       "org_type                        object\n",
       "dtype: object"
      ]
     },
     "execution_count": 383,
     "metadata": {},
     "output_type": "execute_result"
    }
   ],
   "source": [
    "temp_df.dtypes"
   ]
  },
  {
   "cell_type": "code",
   "execution_count": 384,
   "metadata": {
    "pycharm": {
     "is_executing": false
    }
   },
   "outputs": [
    {
     "data": {
      "text/plain": [
       "Index(['service_id', 'service_name', 'location', 'status', 'event_start_time',\n",
       "       'event_end_time', 'event_duration_hours', 'first_notification',\n",
       "       'last_notification', 'description', 'vendor', 'monitor', 'org_type'],\n",
       "      dtype='object')"
      ]
     },
     "execution_count": 384,
     "metadata": {},
     "output_type": "execute_result"
    }
   ],
   "source": [
    "df_aws_only.columns"
   ]
  },
  {
   "cell_type": "code",
   "execution_count": 385,
   "metadata": {
    "pycharm": {
     "is_executing": false
    }
   },
   "outputs": [],
   "source": [
    "# get unique value dataframe for any column\n",
    "def count_unique(df_count_initial, col_index):\n",
    "    \n",
    "    df_count_result = pd.DataFrame()\n",
    "    df_count_result['names'] = np.NaN \n",
    "    df_count_result['frequency']= np.NaN \n",
    "\n",
    "    i = 0\n",
    "    j = 0\n",
    "    new_name = True\n",
    "    while (i < len(df_count_initial) ):\n",
    "        j = 0\n",
    "        while (j < len(df_count_result) ):\n",
    "            \n",
    "            if (df_count_initial.iat[i, col_index] == df_count_result.iat[j, 0] ):\n",
    "                df_count_result.iat[j, 1] = df_count_result.iat[j, 1] + 1\n",
    "\n",
    "                df_count_initial = df_count_initial.drop(df_count_initial.index[[i]], inplace = False)\n",
    "                df_count_initial = df_count_initial.reset_index(drop=True)\n",
    "                i = i - 1\n",
    "\n",
    "                new_name = False\n",
    "\n",
    "                # j = j - 1\n",
    "\n",
    "                # new_name = False\n",
    "                break\n",
    "\n",
    "            j = j + 1\n",
    "            # print('j = ', j)\n",
    "\n",
    "\n",
    "        if ( new_name == True ):\n",
    "\n",
    "            end_row = len(df_count_result)\n",
    "            df_count_result = df_count_result.append({'names':  df_count_initial.iat[i, col_index], 'frequency': 1},ignore_index=True)\n",
    "            \n",
    "            df_count_initial = df_count_initial.drop(df_count_initial.index[[i]], inplace = False)\n",
    "            df_count_initial = df_count_initial.reset_index(drop=True)\n",
    "            i = i - 1\n",
    "\n",
    "            # df_count_result.iat[end_row, 0] = df_count_initial.iat[i, 0] \n",
    "            # df_count_result.iat[end_row, 1] = 1\n",
    "            \n",
    "            # print('new added, len= ', len(df_count_result))\n",
    "\n",
    "        new_name = True\n",
    "\n",
    "\n",
    "        i = i + 1\n",
    "\n",
    "    return df_count_result\n",
    "        "
   ]
  },
  {
   "cell_type": "code",
   "execution_count": 386,
   "metadata": {
    "pycharm": {
     "is_executing": false
    },
    "tags": []
   },
   "outputs": [
    {
     "data": {
      "text/html": [
       "<div>\n",
       "<style scoped>\n",
       "    .dataframe tbody tr th:only-of-type {\n",
       "        vertical-align: middle;\n",
       "    }\n",
       "\n",
       "    .dataframe tbody tr th {\n",
       "        vertical-align: top;\n",
       "    }\n",
       "\n",
       "    .dataframe thead th {\n",
       "        text-align: right;\n",
       "    }\n",
       "</style>\n",
       "<table border=\"1\" class=\"dataframe\">\n",
       "  <thead>\n",
       "    <tr style=\"text-align: right;\">\n",
       "      <th></th>\n",
       "      <th>names</th>\n",
       "      <th>frequency</th>\n",
       "    </tr>\n",
       "  </thead>\n",
       "  <tbody>\n",
       "    <tr>\n",
       "      <th>13</th>\n",
       "      <td>unknown</td>\n",
       "      <td>59.0</td>\n",
       "    </tr>\n",
       "    <tr>\n",
       "      <th>2</th>\n",
       "      <td>Multi-region</td>\n",
       "      <td>22.0</td>\n",
       "    </tr>\n",
       "    <tr>\n",
       "      <th>5</th>\n",
       "      <td>N. Virginia</td>\n",
       "      <td>10.0</td>\n",
       "    </tr>\n",
       "    <tr>\n",
       "      <th>9</th>\n",
       "      <td>Sydney</td>\n",
       "      <td>8.0</td>\n",
       "    </tr>\n",
       "    <tr>\n",
       "      <th>6</th>\n",
       "      <td>Oregon</td>\n",
       "      <td>3.0</td>\n",
       "    </tr>\n",
       "    <tr>\n",
       "      <th>4</th>\n",
       "      <td>N. California</td>\n",
       "      <td>2.0</td>\n",
       "    </tr>\n",
       "    <tr>\n",
       "      <th>7</th>\n",
       "      <td>Paris</td>\n",
       "      <td>2.0</td>\n",
       "    </tr>\n",
       "    <tr>\n",
       "      <th>11</th>\n",
       "      <td>US-West</td>\n",
       "      <td>2.0</td>\n",
       "    </tr>\n",
       "    <tr>\n",
       "      <th>0</th>\n",
       "      <td>East US</td>\n",
       "      <td>1.0</td>\n",
       "    </tr>\n",
       "    <tr>\n",
       "      <th>1</th>\n",
       "      <td>Ireland</td>\n",
       "      <td>1.0</td>\n",
       "    </tr>\n",
       "    <tr>\n",
       "      <th>3</th>\n",
       "      <td>Mumbai</td>\n",
       "      <td>1.0</td>\n",
       "    </tr>\n",
       "    <tr>\n",
       "      <th>8</th>\n",
       "      <td>South Central US</td>\n",
       "      <td>1.0</td>\n",
       "    </tr>\n",
       "    <tr>\n",
       "      <th>10</th>\n",
       "      <td>US Government Cloud</td>\n",
       "      <td>1.0</td>\n",
       "    </tr>\n",
       "    <tr>\n",
       "      <th>12</th>\n",
       "      <td>West Central US</td>\n",
       "      <td>1.0</td>\n",
       "    </tr>\n",
       "  </tbody>\n",
       "</table>\n",
       "</div>"
      ],
      "text/plain": [
       "                  names  frequency\n",
       "13              unknown       59.0\n",
       "2          Multi-region       22.0\n",
       "5           N. Virginia       10.0\n",
       "9                Sydney        8.0\n",
       "6                Oregon        3.0\n",
       "4         N. California        2.0\n",
       "7                 Paris        2.0\n",
       "11              US-West        2.0\n",
       "0               East US        1.0\n",
       "1               Ireland        1.0\n",
       "3                Mumbai        1.0\n",
       "8      South Central US        1.0\n",
       "10  US Government Cloud        1.0\n",
       "12      West Central US        1.0"
      ]
     },
     "execution_count": 386,
     "metadata": {},
     "output_type": "execute_result"
    }
   ],
   "source": [
    "location_col_index = temp_df.columns.get_loc('location')\n",
    "currect_df = count_unique(temp_df, location_col_index).sort_values(by = 'names', ascending= True)\n",
    "currect_df.sort_values(by = 'frequency', ascending= False) # .to_clipboard()"
   ]
  },
  {
   "cell_type": "code",
   "execution_count": 387,
   "metadata": {
    "pycharm": {
     "is_executing": false
    }
   },
   "outputs": [],
   "source": [
    "def monthly_data(df_data : pd.DataFrame):\n",
    "\n",
    "    df_monthly_count = pd.DataFrame()\n",
    "    df_monthly_count[\"Month\"] = ['Jan','Feb','Mar','Apr', 'May', 'Jun', 'Jul', 'Aug', 'Sep', 'Oct', 'Nov', 'Dec']\n",
    "    df_monthly_count[\"failure_count\"] = np.NaN \n",
    "    series_month_count = df_data.groupby(pd.Grouper(key='event_start_time', freq = 'M' ))['vendor'].count()\n",
    "    # series_month_count  # this is a series and not a data frame\n",
    "\n",
    "    i = 0 \n",
    "\n",
    "    while (i < series_month_count.size):\n",
    "        df_monthly_count[\"failure_count\"].loc[i] = series_month_count[i]\n",
    "\n",
    "        i = i + 1\n",
    "\n",
    "    return df_monthly_count\n"
   ]
  },
  {
   "cell_type": "code",
   "execution_count": 388,
   "metadata": {
    "collapsed": false,
    "pycharm": {
     "is_executing": false,
     "name": "#%%\n"
    }
   },
   "outputs": [
    {
     "name": "stderr",
     "output_type": "stream",
     "text": [
      "C:\\Users\\mahsa\\Documents\\anaconda3\\envs\\python_environment_2\\lib\\site-packages\\pandas\\core\\indexing.py:1732: SettingWithCopyWarning: \n",
      "A value is trying to be set on a copy of a slice from a DataFrame\n",
      "\n",
      "See the caveats in the documentation: https://pandas.pydata.org/pandas-docs/stable/user_guide/indexing.html#returning-a-view-versus-a-copy\n",
      "  self._setitem_single_block(indexer, value, name)\n"
     ]
    },
    {
     "data": {
      "text/html": [
       "<div>\n",
       "<style scoped>\n",
       "    .dataframe tbody tr th:only-of-type {\n",
       "        vertical-align: middle;\n",
       "    }\n",
       "\n",
       "    .dataframe tbody tr th {\n",
       "        vertical-align: top;\n",
       "    }\n",
       "\n",
       "    .dataframe thead th {\n",
       "        text-align: right;\n",
       "    }\n",
       "</style>\n",
       "<table border=\"1\" class=\"dataframe\">\n",
       "  <thead>\n",
       "    <tr style=\"text-align: right;\">\n",
       "      <th></th>\n",
       "      <th>Month</th>\n",
       "      <th>failure_count</th>\n",
       "    </tr>\n",
       "  </thead>\n",
       "  <tbody>\n",
       "    <tr>\n",
       "      <th>0</th>\n",
       "      <td>Jan</td>\n",
       "      <td>34.0</td>\n",
       "    </tr>\n",
       "    <tr>\n",
       "      <th>1</th>\n",
       "      <td>Feb</td>\n",
       "      <td>18.0</td>\n",
       "    </tr>\n",
       "    <tr>\n",
       "      <th>2</th>\n",
       "      <td>Mar</td>\n",
       "      <td>48.0</td>\n",
       "    </tr>\n",
       "    <tr>\n",
       "      <th>3</th>\n",
       "      <td>Apr</td>\n",
       "      <td>9.0</td>\n",
       "    </tr>\n",
       "    <tr>\n",
       "      <th>4</th>\n",
       "      <td>May</td>\n",
       "      <td>4.0</td>\n",
       "    </tr>\n",
       "    <tr>\n",
       "      <th>5</th>\n",
       "      <td>Jun</td>\n",
       "      <td>1.0</td>\n",
       "    </tr>\n",
       "    <tr>\n",
       "      <th>6</th>\n",
       "      <td>Jul</td>\n",
       "      <td>NaN</td>\n",
       "    </tr>\n",
       "    <tr>\n",
       "      <th>7</th>\n",
       "      <td>Aug</td>\n",
       "      <td>NaN</td>\n",
       "    </tr>\n",
       "    <tr>\n",
       "      <th>8</th>\n",
       "      <td>Sep</td>\n",
       "      <td>NaN</td>\n",
       "    </tr>\n",
       "    <tr>\n",
       "      <th>9</th>\n",
       "      <td>Oct</td>\n",
       "      <td>NaN</td>\n",
       "    </tr>\n",
       "    <tr>\n",
       "      <th>10</th>\n",
       "      <td>Nov</td>\n",
       "      <td>NaN</td>\n",
       "    </tr>\n",
       "    <tr>\n",
       "      <th>11</th>\n",
       "      <td>Dec</td>\n",
       "      <td>NaN</td>\n",
       "    </tr>\n",
       "  </tbody>\n",
       "</table>\n",
       "</div>"
      ],
      "text/plain": [
       "   Month  failure_count\n",
       "0    Jan           34.0\n",
       "1    Feb           18.0\n",
       "2    Mar           48.0\n",
       "3    Apr            9.0\n",
       "4    May            4.0\n",
       "5    Jun            1.0\n",
       "6    Jul            NaN\n",
       "7    Aug            NaN\n",
       "8    Sep            NaN\n",
       "9    Oct            NaN\n",
       "10   Nov            NaN\n",
       "11   Dec            NaN"
      ]
     },
     "execution_count": 388,
     "metadata": {},
     "output_type": "execute_result"
    }
   ],
   "source": [
    "# monthly data\n",
    "# dg = temp_df.groupby(temp_df['event_start_time'].dt.strftime('%B'))#['event_start_time'].sum().sort_values()\n",
    "# temp_df['event_start_time'].resample('M')\n",
    "# temp_df.groupby(pd.Grouper(key='event_start_time',freq='M'))['vendor'].count()\n",
    "df_monthly_count = pd.DataFrame()\n",
    "df_monthly_count[\"Month\"] = ['Jan','Feb','Mar','Apr', 'May', 'Jun', 'Jul', 'Aug', 'Sep', 'Oct', 'Nov', 'Dec']\n",
    "df_monthly_count[\"failure_count\"] = np.NaN \n",
    "series_month_count = temp_df.groupby(pd.Grouper(key='event_start_time',freq='M'))['vendor'].count()\n",
    "# series_month_count  # this is a series and not a data frame\n",
    "\n",
    "i = 0 \n",
    "\n",
    "while (i < series_month_count.size):\n",
    "    df_monthly_count[\"failure_count\"].loc[i] = series_month_count[i]\n",
    "\n",
    "    i = i + 1\n",
    "\n",
    "df_monthly_count"
   ]
  },
  {
   "cell_type": "code",
   "execution_count": 389,
   "metadata": {
    "collapsed": false,
    "pycharm": {
     "name": "#%%\n"
    }
   },
   "outputs": [
    {
     "data": {
      "text/plain": [
       "DatetimeIndex(['2020-01-07', '2020-01-08', '2020-01-09', '2020-01-10',\n",
       "               '2020-01-11', '2020-01-12', '2020-01-13', '2020-01-14',\n",
       "               '2020-01-15', '2020-01-16',\n",
       "               ...\n",
       "               '2020-06-03', '2020-06-04', '2020-06-05', '2020-06-06',\n",
       "               '2020-06-07', '2020-06-08', '2020-06-09', '2020-06-10',\n",
       "               '2020-06-11', '2020-06-12'],\n",
       "              dtype='datetime64[ns]', name='event_start_time', length=158, freq='D')"
      ]
     },
     "execution_count": 389,
     "metadata": {},
     "output_type": "execute_result"
    }
   ],
   "source": [
    "some_series = temp_df.groupby(pd.Grouper(key='event_start_time',freq='D'))['vendor'].count()\n",
    "# series_month_count  # this is a series and not a data frame\n",
    "# some_series.sort_values( ascending=False)\n",
    "some_series.keys()\n"
   ]
  },
  {
   "cell_type": "code",
   "execution_count": 390,
   "metadata": {},
   "outputs": [],
   "source": [
    "def series_to_df(some_series: pd.Series):\n",
    "    some_list = list(some_series.items())\n",
    "    some_data_frame = pd.DataFrame(some_list)\n",
    "    return some_data_frame"
   ]
  },
  {
   "cell_type": "code",
   "execution_count": 391,
   "metadata": {
    "tags": []
   },
   "outputs": [
    {
     "data": {
      "text/html": [
       "<div>\n",
       "<style scoped>\n",
       "    .dataframe tbody tr th:only-of-type {\n",
       "        vertical-align: middle;\n",
       "    }\n",
       "\n",
       "    .dataframe tbody tr th {\n",
       "        vertical-align: top;\n",
       "    }\n",
       "\n",
       "    .dataframe thead th {\n",
       "        text-align: right;\n",
       "    }\n",
       "</style>\n",
       "<table border=\"1\" class=\"dataframe\">\n",
       "  <thead>\n",
       "    <tr style=\"text-align: right;\">\n",
       "      <th></th>\n",
       "      <th>names</th>\n",
       "      <th>frequency</th>\n",
       "    </tr>\n",
       "  </thead>\n",
       "  <tbody>\n",
       "    <tr>\n",
       "      <th>0</th>\n",
       "      <td>1.0</td>\n",
       "      <td>38.0</td>\n",
       "    </tr>\n",
       "    <tr>\n",
       "      <th>1</th>\n",
       "      <td>0.0</td>\n",
       "      <td>103.0</td>\n",
       "    </tr>\n",
       "    <tr>\n",
       "      <th>2</th>\n",
       "      <td>2.0</td>\n",
       "      <td>9.0</td>\n",
       "    </tr>\n",
       "    <tr>\n",
       "      <th>3</th>\n",
       "      <td>7.0</td>\n",
       "      <td>2.0</td>\n",
       "    </tr>\n",
       "    <tr>\n",
       "      <th>4</th>\n",
       "      <td>3.0</td>\n",
       "      <td>3.0</td>\n",
       "    </tr>\n",
       "    <tr>\n",
       "      <th>5</th>\n",
       "      <td>4.0</td>\n",
       "      <td>2.0</td>\n",
       "    </tr>\n",
       "    <tr>\n",
       "      <th>6</th>\n",
       "      <td>27.0</td>\n",
       "      <td>1.0</td>\n",
       "    </tr>\n",
       "  </tbody>\n",
       "</table>\n",
       "</div>"
      ],
      "text/plain": [
       "   names  frequency\n",
       "0    1.0       38.0\n",
       "1    0.0      103.0\n",
       "2    2.0        9.0\n",
       "3    7.0        2.0\n",
       "4    3.0        3.0\n",
       "5    4.0        2.0\n",
       "6   27.0        1.0"
      ]
     },
     "execution_count": 391,
     "metadata": {},
     "output_type": "execute_result"
    }
   ],
   "source": [
    "some_list = list(some_series.items())\n",
    "df_weekly = pd.DataFrame(some_list) # working correct\n",
    "df_weekly.columns = [\"weeks\",\"failures\"]\n",
    "# df_weekly\n",
    "df_weekly.sort_values(by= 'failures' ,ascending=False)\n",
    "count_unique(df_weekly,1)"
   ]
  },
  {
   "cell_type": "markdown",
   "metadata": {},
   "source": [
    "<h3>Plots</h3>"
   ]
  },
  {
   "cell_type": "code",
   "execution_count": 392,
   "metadata": {
    "pycharm": {
     "is_executing": false
    }
   },
   "outputs": [],
   "source": [
    "# Plots"
   ]
  },
  {
   "cell_type": "code",
   "execution_count": 393,
   "metadata": {
    "pycharm": {
     "is_executing": false
    }
   },
   "outputs": [],
   "source": [
    "import matplotlib.pyplot as plt\n",
    "import seaborn as sns\n",
    "\n",
    "# Graphics in retina format are more sharp and legible\n",
    "# %config InlineBackend.figure_format = 'retina'\n",
    "\n",
    "# plt.style.use('ggplot') # comment this and style changes\n",
    "# plt.style.use('bmh')\n",
    "plt.style.use('seaborn-whitegrid')\n",
    "\n",
    "font = {'family' : 'serif',\n",
    "        'weight' : 'normal',\n",
    "        'size'   : 16}\n",
    "plt.rc('font', **font)\n",
    "\n",
    "plt.rc('figure', figsize=(10, 6))"
   ]
  },
  {
   "cell_type": "markdown",
   "metadata": {},
   "source": [
    "<h4>ECDF plot making</h4>"
   ]
  },
  {
   "cell_type": "code",
   "execution_count": 394,
   "metadata": {
    "pycharm": {
     "is_executing": false
    }
   },
   "outputs": [],
   "source": [
    "# ecdf plot making\n",
    "\n",
    "# sort rows of seperate dataframes\n",
    "sort_aws = df_aws_only.sort_values(by= ['event_duration_hours'] )\n",
    "sort_azure = df_azure_only.sort_values(by= ['event_duration_hours'] )\n",
    "sort_gcp = df_gcp_only.sort_values(by= ['event_duration_hours'] )\n"
   ]
  },
  {
   "cell_type": "code",
   "execution_count": 439,
   "metadata": {
    "pycharm": {
     "is_executing": false
    },
    "tags": []
   },
   "outputs": [
    {
     "name": "stdout",
     "output_type": "stream",
     "text": [
      "plot 7\n"
     ]
    },
    {
     "data": {
      "image/png": "[encoded data removed]",
      "text/plain": [
       "<Figure size 720x432 with 1 Axes>"
      ]
     },
     "metadata": {},
     "output_type": "display_data"
    }
   ],
   "source": [
    "# ecdf graph maker 2018 setting\n",
    "\n",
    "import numpy as np\n",
    "import statsmodels.api as sm # recommended import according to the docs\n",
    "import matplotlib.pyplot as plt\n",
    "\n",
    "df_aws_only = df_aws_only.sort_values(by= ['event_duration_hours'] )\n",
    "ecdf = sm.distributions.ECDF(df_aws_only.event_duration_hours)\n",
    "x_aws = df_aws_only.event_duration_hours\n",
    "#x_aws = np.linspace(min(df_ecdf.aws_value), max(df_ecdf.aws_value))\n",
    "y_aws = ecdf(x_aws)\n",
    "\n",
    "df_azure_only = df_azure_only.sort_values(by= ['event_duration_hours'] )\n",
    "ecdf = sm.distributions.ECDF(df_azure_only.event_duration_hours)\n",
    "# x_azure = np.linspace(min(df_ecdf.azure_value), max(df_ecdf.azure_value))\n",
    "x_azure = df_azure_only.event_duration_hours\n",
    "y_azure = ecdf(x_azure)\n",
    "\n",
    "df_gcp_only = df_gcp_only.sort_values(by= ['event_duration_hours'] )\n",
    "ecdf = sm.distributions.ECDF(df_gcp_only.event_duration_hours)\n",
    "# x_gcp = np.linspace(min(df_ecdf.gcp_value), max(df_ecdf.gcp_value))\n",
    "x_gcp = df_gcp_only.event_duration_hours\n",
    "y_gcp = ecdf(x_gcp)\n",
    "\n",
    "#######\n",
    "\n",
    "print('plot 7')\n",
    "\n",
    "plt.plot(x_aws, y_aws, marker='x', linewidth = 1.5, markersize = 6.0 , markevery = 1)\n",
    "\n",
    "plt.plot(x_azure, y_azure, marker='^', linewidth = 1.5, markersize = 6.0 , markevery = 4)\n",
    "\n",
    "plt.plot(x_gcp, y_gcp, marker='.', linewidth = 1.5, markersize = 8.0 , markevery = 2)\n",
    "\n",
    "plt.xlabel('Time (hours)')\n",
    "plt.ylabel('ECDF')\n",
    "# plt.title('Event duration ECDF 2018', fontdict={'fontsize': 15, 'fontweight': 'medium'})\n",
    "plt.legend(['AWS', 'Azure', 'GCP'], loc= 'lower right')\n",
    "# plt.grid(color='grey', linestyle='-', linewidth=1)\n",
    "# plt.rcParams['axes.facecolor'] = 'white'\n",
    "\n",
    "plt.xscale(\"log\") # 2019\n",
    "# plt.xscale(\"linear\")\n",
    "\n",
    "# plt.xticks([0,5,8,10,12,24,29])\n",
    "# plt.xticks([1,5,10,15,20,24,29]) # 2020\n",
    "plt.xticks([1,5,10,24,120],[1,5,10,24,120]) # 2018\n",
    "\n",
    "plt.savefig('2020_ecdf.pdf', bbox_inches='tight')\n",
    "plt.show()"
   ]
  },
  {
   "cell_type": "code",
   "execution_count": 438,
   "metadata": {
    "pycharm": {
     "is_executing": false
    },
    "tags": []
   },
   "outputs": [
    {
     "name": "stdout",
     "output_type": "stream",
     "text": [
      "plot 7\n"
     ]
    },
    {
     "data": {
      "image/png": "[encoded data removed]",
      "text/plain": [
       "<Figure size 720x432 with 1 Axes>"
      ]
     },
     "metadata": {},
     "output_type": "display_data"
    }
   ],
   "source": [
    "# ecdf graph maker 2019 setting\n",
    "\n",
    "import numpy as np\n",
    "import statsmodels.api as sm # recommended import according to the docs\n",
    "import matplotlib.pyplot as plt\n",
    "\n",
    "df_aws_only = df_aws_only.sort_values(by= ['event_duration_hours'] )\n",
    "ecdf = sm.distributions.ECDF(df_aws_only.event_duration_hours)\n",
    "x_aws = df_aws_only.event_duration_hours\n",
    "#x_aws = np.linspace(min(df_ecdf.aws_value), max(df_ecdf.aws_value))\n",
    "y_aws = ecdf(x_aws)\n",
    "\n",
    "df_azure_only = df_azure_only.sort_values(by= ['event_duration_hours'] )\n",
    "ecdf = sm.distributions.ECDF(df_azure_only.event_duration_hours)\n",
    "# x_azure = np.linspace(min(df_ecdf.azure_value), max(df_ecdf.azure_value))\n",
    "x_azure = df_azure_only.event_duration_hours\n",
    "y_azure = ecdf(x_azure)\n",
    "\n",
    "df_gcp_only = df_gcp_only.sort_values(by= ['event_duration_hours'] )\n",
    "ecdf = sm.distributions.ECDF(df_gcp_only.event_duration_hours)\n",
    "# x_gcp = np.linspace(min(df_ecdf.gcp_value), max(df_ecdf.gcp_value))\n",
    "x_gcp = df_gcp_only.event_duration_hours\n",
    "y_gcp = ecdf(x_gcp)\n",
    "\n",
    "#######\n",
    "\n",
    "print('plot 7')\n",
    "\n",
    "plt.plot(x_aws, y_aws, marker='x', linewidth = 1.5, markersize = 6.0 , markevery = 1)\n",
    "\n",
    "plt.plot(x_azure, y_azure, marker='^', linewidth = 1.5, markersize = 6.0 , markevery = 1)\n",
    "\n",
    "plt.plot(x_gcp, y_gcp, marker='.', linewidth = 1.5, markersize = 8.0 , markevery = 2)\n",
    "\n",
    "plt.xlabel('Time (hours)')\n",
    "plt.ylabel('ECDF')\n",
    "# plt.title('Event duration ECDF 2019', fontdict={'fontsize': 15, 'fontweight': 'medium'})\n",
    "plt.legend(['AWS', 'Azure', 'GCP'], loc= 'lower right')\n",
    "# plt.grid(color='grey', linestyle='-', linewidth=1)\n",
    "# plt.rcParams['axes.facecolor'] = 'white'\n",
    "\n",
    "plt.xscale(\"log\") # 2019\n",
    "# plt.xscale(\"linear\")\n",
    "\n",
    "# plt.xticks([0,5,8,10,12,24,29])\n",
    "# plt.xticks([1,5,10,15,20,24,29]) # 2020\n",
    "plt.xticks([1,5,10,24,60,250],[1,5,10,24,60,250]) # first is ticks and second list is for labels\n",
    "\n",
    "plt.savefig('2019_ecdf.pdf', bbox_inches='tight')\n",
    "plt.show()"
   ]
  },
  {
   "cell_type": "code",
   "execution_count": 440,
   "metadata": {
    "pycharm": {
     "is_executing": false
    },
    "tags": []
   },
   "outputs": [
    {
     "name": "stdout",
     "output_type": "stream",
     "text": [
      "plot 7\n"
     ]
    },
    {
     "data": {
      "image/png": "[encoded data removed]",
      "text/plain": [
       "<Figure size 720x432 with 1 Axes>"
      ]
     },
     "metadata": {},
     "output_type": "display_data"
    }
   ],
   "source": [
    "# ecdf graph maker 2020 setting\n",
    "\n",
    "import numpy as np\n",
    "import statsmodels.api as sm # recommended import according to the docs\n",
    "import matplotlib.pyplot as plt\n",
    "\n",
    "df_aws_only = df_aws_only.sort_values(by= ['event_duration_hours'] )\n",
    "ecdf = sm.distributions.ECDF(df_aws_only.event_duration_hours)\n",
    "x_aws = df_aws_only.event_duration_hours\n",
    "#x_aws = np.linspace(min(df_ecdf.aws_value), max(df_ecdf.aws_value))\n",
    "y_aws = ecdf(x_aws)\n",
    "\n",
    "df_azure_only = df_azure_only.sort_values(by= ['event_duration_hours'] )\n",
    "ecdf = sm.distributions.ECDF(df_azure_only.event_duration_hours)\n",
    "# x_azure = np.linspace(min(df_ecdf.azure_value), max(df_ecdf.azure_value))\n",
    "x_azure = df_azure_only.event_duration_hours\n",
    "y_azure = ecdf(x_azure)\n",
    "\n",
    "df_gcp_only = df_gcp_only.sort_values(by= ['event_duration_hours'] )\n",
    "ecdf = sm.distributions.ECDF(df_gcp_only.event_duration_hours)\n",
    "# x_gcp = np.linspace(min(df_ecdf.gcp_value), max(df_ecdf.gcp_value))\n",
    "x_gcp = df_gcp_only.event_duration_hours\n",
    "y_gcp = ecdf(x_gcp)\n",
    "\n",
    "#######\n",
    "\n",
    "print('plot 7')\n",
    "\n",
    "plt.plot(x_aws, y_aws, marker='x', linewidth = 1.5, markersize = 6.0 , markevery = 1)\n",
    "\n",
    "plt.plot(x_azure, y_azure, marker='^', linewidth = 1.5, markersize = 6.0 , markevery = 1)\n",
    "\n",
    "plt.plot(x_gcp, y_gcp, marker='.', linewidth = 1.5, markersize = 8.0 , markevery = 2)\n",
    "\n",
    "plt.xlabel('Time (hours)')\n",
    "plt.ylabel('ECDF')\n",
    "# plt.title('Event duration ECDF 2020', fontdict={'fontsize': 15, 'fontweight': 'medium'})\n",
    "plt.legend(['AWS', 'Azure', 'GCP'], loc= 'lower right')\n",
    "# plt.grid(color='grey', linestyle='-', linewidth=1)\n",
    "# plt.rcParams['axes.facecolor'] = 'white'\n",
    "\n",
    "# plt.xscale(\"log\") # 2019\n",
    "# plt.xscale(\"linear\")\n",
    "\n",
    "# plt.xticks([0,5,8,10,12,24,29])\n",
    "plt.xticks([1,5,10,15,20,24,29]) # 2020\n",
    "\n",
    "\n",
    "plt.savefig('2018_ecdf.pdf', bbox_inches='tight')\n",
    "plt.show()"
   ]
  },
  {
   "cell_type": "markdown",
   "metadata": {},
   "source": [
    "<h4>Vendor vs Failure count</h4>"
   ]
  },
  {
   "cell_type": "code",
   "execution_count": 398,
   "metadata": {
    "pycharm": {
     "is_executing": false
    }
   },
   "outputs": [
    {
     "name": "stderr",
     "output_type": "stream",
     "text": [
      "C:\\Users\\mahsa\\Documents\\anaconda3\\envs\\python_environment_2\\lib\\site-packages\\ipykernel_launcher.py:4: FutureWarning: In a future version of pandas all arguments of Series.sort_values will be keyword-only\n",
      "  after removing the cwd from sys.path.\n"
     ]
    },
    {
     "data": {
      "image/png": "[encoded data removed]",
      "text/plain": [
       "<Figure size 720x432 with 1 Axes>"
      ]
     },
     "metadata": {},
     "output_type": "display_data"
    }
   ],
   "source": [
    "height_temp = pd.DataFrame()\n",
    "height_temp = temp_df.vendor.value_counts()\n",
    "\n",
    "height_temp.sort_values(0)\n",
    "\n",
    "h1 = height_temp[0]\n",
    "h2 = height_temp[1]\n",
    "h3 = height_temp[2]\n",
    "plt.bar( x = ['AWS', 'Azure', 'GCP'], height = [ h1,h2,h3 ] ,data = temp_df.vendor.value_counts, color= ['orange','b', 'g'] )\n",
    "\n",
    "plt.xlabel('Providor')\n",
    "plt.ylabel('Number of Failures')\n",
    "plt.title('Failure count vs providor graph', fontdict={'fontsize': 15, 'fontweight': 'medium'})\n",
    "\n",
    "plt.show()"
   ]
  },
  {
   "cell_type": "code",
   "execution_count": 399,
   "metadata": {
    "pycharm": {
     "is_executing": false
    },
    "tags": []
   },
   "outputs": [
    {
     "data": {
      "text/html": [
       "<div>\n",
       "<style scoped>\n",
       "    .dataframe tbody tr th:only-of-type {\n",
       "        vertical-align: middle;\n",
       "    }\n",
       "\n",
       "    .dataframe tbody tr th {\n",
       "        vertical-align: top;\n",
       "    }\n",
       "\n",
       "    .dataframe thead th {\n",
       "        text-align: right;\n",
       "    }\n",
       "</style>\n",
       "<table border=\"1\" class=\"dataframe\">\n",
       "  <thead>\n",
       "    <tr style=\"text-align: right;\">\n",
       "      <th></th>\n",
       "      <th>names</th>\n",
       "      <th>frequency</th>\n",
       "    </tr>\n",
       "  </thead>\n",
       "  <tbody>\n",
       "    <tr>\n",
       "      <th>0</th>\n",
       "      <td>Azure</td>\n",
       "      <td>17.0</td>\n",
       "    </tr>\n",
       "    <tr>\n",
       "      <th>1</th>\n",
       "      <td>AWS</td>\n",
       "      <td>38.0</td>\n",
       "    </tr>\n",
       "    <tr>\n",
       "      <th>2</th>\n",
       "      <td>GCP</td>\n",
       "      <td>59.0</td>\n",
       "    </tr>\n",
       "  </tbody>\n",
       "</table>\n",
       "</div>"
      ],
      "text/plain": [
       "   names  frequency\n",
       "0  Azure       17.0\n",
       "1    AWS       38.0\n",
       "2    GCP       59.0"
      ]
     },
     "execution_count": 399,
     "metadata": {},
     "output_type": "execute_result"
    }
   ],
   "source": [
    "vendor_col_index = temp_df.columns.get_loc('vendor')\n",
    "count_unique(temp_df, vendor_col_index) # .sort_values(by= 'names')"
   ]
  },
  {
   "cell_type": "code",
   "execution_count": 400,
   "metadata": {
    "pycharm": {
     "is_executing": false
    },
    "tags": []
   },
   "outputs": [
    {
     "data": {
      "text/html": [
       "<div>\n",
       "<style scoped>\n",
       "    .dataframe tbody tr th:only-of-type {\n",
       "        vertical-align: middle;\n",
       "    }\n",
       "\n",
       "    .dataframe tbody tr th {\n",
       "        vertical-align: top;\n",
       "    }\n",
       "\n",
       "    .dataframe thead th {\n",
       "        text-align: right;\n",
       "    }\n",
       "</style>\n",
       "<table border=\"1\" class=\"dataframe\">\n",
       "  <thead>\n",
       "    <tr style=\"text-align: right;\">\n",
       "      <th></th>\n",
       "      <th>names</th>\n",
       "      <th>frequency</th>\n",
       "    </tr>\n",
       "  </thead>\n",
       "  <tbody>\n",
       "    <tr>\n",
       "      <th>0</th>\n",
       "      <td>AWS</td>\n",
       "      <td>38.0</td>\n",
       "    </tr>\n",
       "  </tbody>\n",
       "</table>\n",
       "</div>"
      ],
      "text/plain": [
       "  names  frequency\n",
       "0   AWS       38.0"
      ]
     },
     "execution_count": 400,
     "metadata": {},
     "output_type": "execute_result"
    }
   ],
   "source": [
    "vendor_col_index = df_aws_only.columns.get_loc('vendor')\n",
    "count_unique(df_aws_only, vendor_col_index)"
   ]
  },
  {
   "cell_type": "code",
   "execution_count": 401,
   "metadata": {},
   "outputs": [
    {
     "name": "stderr",
     "output_type": "stream",
     "text": [
      "C:\\Users\\mahsa\\Documents\\anaconda3\\envs\\python_environment_2\\lib\\site-packages\\pandas\\core\\indexing.py:1732: SettingWithCopyWarning: \n",
      "A value is trying to be set on a copy of a slice from a DataFrame\n",
      "\n",
      "See the caveats in the documentation: https://pandas.pydata.org/pandas-docs/stable/user_guide/indexing.html#returning-a-view-versus-a-copy\n",
      "  self._setitem_single_block(indexer, value, name)\n"
     ]
    },
    {
     "data": {
      "text/html": [
       "<div>\n",
       "<style scoped>\n",
       "    .dataframe tbody tr th:only-of-type {\n",
       "        vertical-align: middle;\n",
       "    }\n",
       "\n",
       "    .dataframe tbody tr th {\n",
       "        vertical-align: top;\n",
       "    }\n",
       "\n",
       "    .dataframe thead th {\n",
       "        text-align: right;\n",
       "    }\n",
       "</style>\n",
       "<table border=\"1\" class=\"dataframe\">\n",
       "  <thead>\n",
       "    <tr style=\"text-align: right;\">\n",
       "      <th></th>\n",
       "      <th>Month</th>\n",
       "      <th>failure_count</th>\n",
       "    </tr>\n",
       "  </thead>\n",
       "  <tbody>\n",
       "    <tr>\n",
       "      <th>0</th>\n",
       "      <td>Jan</td>\n",
       "      <td>34.0</td>\n",
       "    </tr>\n",
       "    <tr>\n",
       "      <th>1</th>\n",
       "      <td>Feb</td>\n",
       "      <td>18.0</td>\n",
       "    </tr>\n",
       "    <tr>\n",
       "      <th>2</th>\n",
       "      <td>Mar</td>\n",
       "      <td>48.0</td>\n",
       "    </tr>\n",
       "    <tr>\n",
       "      <th>3</th>\n",
       "      <td>Apr</td>\n",
       "      <td>9.0</td>\n",
       "    </tr>\n",
       "    <tr>\n",
       "      <th>4</th>\n",
       "      <td>May</td>\n",
       "      <td>4.0</td>\n",
       "    </tr>\n",
       "    <tr>\n",
       "      <th>5</th>\n",
       "      <td>Jun</td>\n",
       "      <td>1.0</td>\n",
       "    </tr>\n",
       "    <tr>\n",
       "      <th>6</th>\n",
       "      <td>Jul</td>\n",
       "      <td>NaN</td>\n",
       "    </tr>\n",
       "    <tr>\n",
       "      <th>7</th>\n",
       "      <td>Aug</td>\n",
       "      <td>NaN</td>\n",
       "    </tr>\n",
       "    <tr>\n",
       "      <th>8</th>\n",
       "      <td>Sep</td>\n",
       "      <td>NaN</td>\n",
       "    </tr>\n",
       "    <tr>\n",
       "      <th>9</th>\n",
       "      <td>Oct</td>\n",
       "      <td>NaN</td>\n",
       "    </tr>\n",
       "    <tr>\n",
       "      <th>10</th>\n",
       "      <td>Nov</td>\n",
       "      <td>NaN</td>\n",
       "    </tr>\n",
       "    <tr>\n",
       "      <th>11</th>\n",
       "      <td>Dec</td>\n",
       "      <td>NaN</td>\n",
       "    </tr>\n",
       "  </tbody>\n",
       "</table>\n",
       "</div>"
      ],
      "text/plain": [
       "   Month  failure_count\n",
       "0    Jan           34.0\n",
       "1    Feb           18.0\n",
       "2    Mar           48.0\n",
       "3    Apr            9.0\n",
       "4    May            4.0\n",
       "5    Jun            1.0\n",
       "6    Jul            NaN\n",
       "7    Aug            NaN\n",
       "8    Sep            NaN\n",
       "9    Oct            NaN\n",
       "10   Nov            NaN\n",
       "11   Dec            NaN"
      ]
     },
     "execution_count": 401,
     "metadata": {},
     "output_type": "execute_result"
    }
   ],
   "source": [
    "testing = pd.read_parquet('2020_all_data.parquet')  # reading excel causes some problem with some code like time conversion codes\n",
    "monthly_data(testing)"
   ]
  },
  {
   "cell_type": "code",
   "execution_count": 443,
   "metadata": {
    "pycharm": {
     "is_executing": false
    },
    "tags": []
   },
   "outputs": [
    {
     "data": {
      "text/plain": [
       "<matplotlib.legend.Legend at 0x205c111cb08>"
      ]
     },
     "execution_count": 443,
     "metadata": {},
     "output_type": "execute_result"
    },
    {
     "data": {
      "image/png": "[encoded data removed]",
      "text/plain": [
       "<Figure size 720x432 with 1 Axes>"
      ]
     },
     "metadata": {},
     "output_type": "display_data"
    }
   ],
   "source": [
    "# fixed working\n",
    "\n",
    "temp_2020 = pd.read_parquet('2020_all_data.parquet')\n",
    "temp_2019 = pd.read_parquet('2019_all_data.parquet')\n",
    "temp_2018 = pd.read_parquet('2018_all_data.parquet')\n",
    "\n",
    "# remember to use sort on count values so they list as 1)Azure 2)AWS and 3)GCP\n",
    "\n",
    "# 2020\n",
    "vendor_col_index = temp_2020.columns.get_loc('vendor')\n",
    "height_temp_20 = pd.DataFrame()\n",
    "height_temp_20 = count_unique(temp_2020, vendor_col_index)\n",
    "\n",
    "if (height_temp_20.iat[0,0] == 'Azure'):\n",
    "    h1_2020 = height_temp_20.iat[0,1]\n",
    "\n",
    "    if(height_temp_20.iat[1,0] == 'AWS'):\n",
    "        h2_2020 = height_temp_20.iat[1,1]\n",
    "        h3_2020 = height_temp_20.iat[2,1]\n",
    "\n",
    "    else:\n",
    "        h2_2020 = height_temp_20.iat[2,1]\n",
    "        h3_2020 = height_temp_20.iat[1,1]\n",
    "\n",
    "\n",
    "elif (height_temp_20.iat[1,0] == 'Azure'):\n",
    "    h1_2020 = height_temp_20.iat[1,1]\n",
    "\n",
    "    if(height_temp_20.iat[0,0] == 'AWS'):\n",
    "        h2_2020 = height_temp_20.iat[0,1]\n",
    "        h3_2020 = height_temp_20.iat[2,1]\n",
    "\n",
    "    else:\n",
    "        h2_2020 = height_temp_20.iat[2,1]\n",
    "        h3_2020 = height_temp_20.iat[0,1]\n",
    "\n",
    "elif (height_temp_20.iat[2,0] == 'Azure'):\n",
    "    h1_2020 = height_temp_20.iat[2,1]\n",
    "\n",
    "    if(height_temp_20.iat[1,0] == 'AWS'):\n",
    "        h2_2020 = height_temp_20.iat[1,1]\n",
    "        h3_2020 = height_temp_20.iat[2,1]\n",
    "\n",
    "    else:\n",
    "        h2_2020 = height_temp_20.iat[2,1]\n",
    "        h3_2020 = height_temp_20.iat[1,1]\n",
    "\n",
    "\n",
    "# 2019\n",
    "vendor_col_index = temp_2019.columns.get_loc('vendor')\n",
    "height_temp_19 = pd.DataFrame()\n",
    "height_temp_19 = count_unique(temp_2019, vendor_col_index)\n",
    "\n",
    "if (height_temp_19.iat[0,0] == 'Azure'):\n",
    "    h1_2019 = height_temp_19.iat[0,1]\n",
    "\n",
    "    if(height_temp_19.iat[1,0] == 'AWS'):\n",
    "        h2_2019 = height_temp_19.iat[1,1]\n",
    "        h3_2019 = height_temp_19.iat[2,1]\n",
    "\n",
    "    else:\n",
    "        h2_2019 = height_temp_19.iat[2,1]\n",
    "        h3_2019 = height_temp_19.iat[1,1]\n",
    "\n",
    "\n",
    "elif (height_temp_19.iat[1,0] == 'Azure'):\n",
    "    h1_2019 = height_temp_19.iat[1,1]\n",
    "\n",
    "    if(height_temp_19.iat[0,0] == 'AWS'):\n",
    "        h2_2019 = height_temp_19.iat[0,1]\n",
    "        h3_2019 = height_temp_19.iat[2,1]\n",
    "\n",
    "    else:\n",
    "        h2_2019 = height_temp_19.iat[2,1]\n",
    "        h3_2019 = height_temp_19.iat[0,1]\n",
    "\n",
    "elif (height_temp_19.iat[2,0] == 'Azure'):\n",
    "    h1_2019 = height_temp_19.iat[2,1]\n",
    "\n",
    "    if(height_temp_19.iat[1,0] == 'AWS'):\n",
    "        h2_2019 = height_temp_19.iat[1,1]\n",
    "        h3_2019 = height_temp_19.iat[2,1]\n",
    "\n",
    "    else:\n",
    "        h2_2019 = height_temp_19.iat[2,1]\n",
    "        h3_2019 = height_temp_19.iat[1,1]\n",
    "\n",
    "\n",
    "# 2018\n",
    "vendor_col_index = temp_2018.columns.get_loc('vendor')\n",
    "height_temp_18 = pd.DataFrame()\n",
    "height_temp_18 = count_unique(temp_2018, vendor_col_index)\n",
    "\n",
    "if (height_temp_18.iat[0,0] == 'Azure'):\n",
    "    h1_2018 = height_temp_18.iat[0,1]\n",
    "\n",
    "    if(height_temp_18.iat[1,0] == 'AWS'):\n",
    "        h2_2018 = height_temp_18.iat[1,1]\n",
    "        h3_2018 = height_temp_18.iat[2,1]\n",
    "\n",
    "    else:\n",
    "        h2_2018 = height_temp_18.iat[2,1]\n",
    "        h3_2018 = height_temp_18.iat[1,1]\n",
    "\n",
    "\n",
    "elif (height_temp_18.iat[1,0] == 'Azure'):\n",
    "    h1_2018 = height_temp_18.iat[1,1]\n",
    "\n",
    "    if(height_temp_18.iat[0,0] == 'AWS'):\n",
    "        h2_2018 = height_temp_18.iat[0,1]\n",
    "        h3_2018 = height_temp_18.iat[2,1]\n",
    "\n",
    "    else:\n",
    "        h2_2018 = height_temp_18.iat[2,1]\n",
    "        h3_2018 = height_temp_18.iat[0,1]\n",
    "\n",
    "elif (height_temp_18.iat[2,0] == 'Azure'):\n",
    "    h1_2018 = height_temp_18.iat[2,1]\n",
    "\n",
    "    if(height_temp_18.iat[1,0] == 'AWS'):\n",
    "        h2_2018 = height_temp_18.iat[1,1]\n",
    "        h3_2018 = height_temp_18.iat[2,1]\n",
    "\n",
    "    else:\n",
    "        h2_2018 = height_temp_18.iat[2,1]\n",
    "        h3_2018 = height_temp_18.iat[1,1]\n",
    "\n",
    "\n",
    "# plot\n",
    "plt.hist( x = (['Azure', 'AWS', 'GCP'], ['Azure', 'AWS', 'GCP'], ['Azure', 'AWS', 'GCP'] ) ,  weights= ([int(h1_2018) , int(h2_2018), int(h3_2018)], [int(h1_2019), int(h2_2019), int(h3_2019)], [int(h1_2020), int(h2_2020), int(h3_2020) ]), color = ['grey','purple','orange'] , align = 'mid', rwidth= 20, )\n",
    "\n",
    "# data = [df_aws_only.vendor, df_azure_only, df_gcp_only ] \n",
    "\n",
    "plt.grid(axis='x', b=False) # donot show x axis grid     # ['Azure', 'AWS', 'GCP'] [h1_2020, h2_2020, h3_2020]\n",
    "\n",
    "plt.xlabel('Provider (2018 - 2020)', labelpad= 6)\n",
    "plt.ylabel('Number of Failures')\n",
    "plt.title('Failure count vs providor graph', fontdict={'fontsize': 15, 'fontweight': 'medium'})\n",
    "plt.legend(['2018', '2019', '2020'], loc= 'best')\n",
    "\n",
    "# plt.xlabel('2020                    2019                2018')\n",
    "# plt.xlabel('2020',)"
   ]
  },
  {
   "cell_type": "code",
   "execution_count": 403,
   "metadata": {
    "pycharm": {
     "is_executing": false
    }
   },
   "outputs": [
    {
     "data": {
      "text/html": [
       "<div>\n",
       "<style scoped>\n",
       "    .dataframe tbody tr th:only-of-type {\n",
       "        vertical-align: middle;\n",
       "    }\n",
       "\n",
       "    .dataframe tbody tr th {\n",
       "        vertical-align: top;\n",
       "    }\n",
       "\n",
       "    .dataframe thead th {\n",
       "        text-align: right;\n",
       "    }\n",
       "</style>\n",
       "<table border=\"1\" class=\"dataframe\">\n",
       "  <thead>\n",
       "    <tr style=\"text-align: right;\">\n",
       "      <th></th>\n",
       "      <th>names</th>\n",
       "      <th>frequency</th>\n",
       "    </tr>\n",
       "  </thead>\n",
       "  <tbody>\n",
       "    <tr>\n",
       "      <th>0</th>\n",
       "      <td>Azure</td>\n",
       "      <td>17.0</td>\n",
       "    </tr>\n",
       "    <tr>\n",
       "      <th>1</th>\n",
       "      <td>AWS</td>\n",
       "      <td>38.0</td>\n",
       "    </tr>\n",
       "    <tr>\n",
       "      <th>2</th>\n",
       "      <td>GCP</td>\n",
       "      <td>59.0</td>\n",
       "    </tr>\n",
       "  </tbody>\n",
       "</table>\n",
       "</div>"
      ],
      "text/plain": [
       "   names  frequency\n",
       "0  Azure       17.0\n",
       "1    AWS       38.0\n",
       "2    GCP       59.0"
      ]
     },
     "execution_count": 403,
     "metadata": {},
     "output_type": "execute_result"
    }
   ],
   "source": [
    "height_temp_20"
   ]
  },
  {
   "cell_type": "code",
   "execution_count": 404,
   "metadata": {
    "pycharm": {
     "is_executing": false
    }
   },
   "outputs": [
    {
     "data": {
      "text/plain": [
       "137.0"
      ]
     },
     "execution_count": 404,
     "metadata": {},
     "output_type": "execute_result"
    }
   ],
   "source": [
    "# height_temp_20.frequency.dtypes\n",
    "h2_2018"
   ]
  },
  {
   "cell_type": "code",
   "execution_count": 405,
   "metadata": {
    "pycharm": {
     "is_executing": false
    }
   },
   "outputs": [
    {
     "data": {
      "text/html": [
       "<div>\n",
       "<style scoped>\n",
       "    .dataframe tbody tr th:only-of-type {\n",
       "        vertical-align: middle;\n",
       "    }\n",
       "\n",
       "    .dataframe tbody tr th {\n",
       "        vertical-align: top;\n",
       "    }\n",
       "\n",
       "    .dataframe thead th {\n",
       "        text-align: right;\n",
       "    }\n",
       "</style>\n",
       "<table border=\"1\" class=\"dataframe\">\n",
       "  <thead>\n",
       "    <tr style=\"text-align: right;\">\n",
       "      <th></th>\n",
       "      <th>names</th>\n",
       "      <th>frequency</th>\n",
       "    </tr>\n",
       "  </thead>\n",
       "  <tbody>\n",
       "    <tr>\n",
       "      <th>0</th>\n",
       "      <td>Azure</td>\n",
       "      <td>78.0</td>\n",
       "    </tr>\n",
       "    <tr>\n",
       "      <th>1</th>\n",
       "      <td>AWS</td>\n",
       "      <td>118.0</td>\n",
       "    </tr>\n",
       "    <tr>\n",
       "      <th>2</th>\n",
       "      <td>GCP</td>\n",
       "      <td>161.0</td>\n",
       "    </tr>\n",
       "  </tbody>\n",
       "</table>\n",
       "</div>"
      ],
      "text/plain": [
       "   names  frequency\n",
       "0  Azure       78.0\n",
       "1    AWS      118.0\n",
       "2    GCP      161.0"
      ]
     },
     "execution_count": 405,
     "metadata": {},
     "output_type": "execute_result"
    }
   ],
   "source": [
    "height_temp_19"
   ]
  },
  {
   "cell_type": "code",
   "execution_count": 406,
   "metadata": {
    "pycharm": {
     "is_executing": false
    }
   },
   "outputs": [
    {
     "data": {
      "text/html": [
       "<div>\n",
       "<style scoped>\n",
       "    .dataframe tbody tr th:only-of-type {\n",
       "        vertical-align: middle;\n",
       "    }\n",
       "\n",
       "    .dataframe tbody tr th {\n",
       "        vertical-align: top;\n",
       "    }\n",
       "\n",
       "    .dataframe thead th {\n",
       "        text-align: right;\n",
       "    }\n",
       "</style>\n",
       "<table border=\"1\" class=\"dataframe\">\n",
       "  <thead>\n",
       "    <tr style=\"text-align: right;\">\n",
       "      <th></th>\n",
       "      <th>names</th>\n",
       "      <th>frequency</th>\n",
       "    </tr>\n",
       "  </thead>\n",
       "  <tbody>\n",
       "    <tr>\n",
       "      <th>0</th>\n",
       "      <td>Azure</td>\n",
       "      <td>119.0</td>\n",
       "    </tr>\n",
       "    <tr>\n",
       "      <th>1</th>\n",
       "      <td>AWS</td>\n",
       "      <td>137.0</td>\n",
       "    </tr>\n",
       "    <tr>\n",
       "      <th>2</th>\n",
       "      <td>GCP</td>\n",
       "      <td>130.0</td>\n",
       "    </tr>\n",
       "  </tbody>\n",
       "</table>\n",
       "</div>"
      ],
      "text/plain": [
       "   names  frequency\n",
       "0  Azure      119.0\n",
       "1    AWS      137.0\n",
       "2    GCP      130.0"
      ]
     },
     "execution_count": 406,
     "metadata": {},
     "output_type": "execute_result"
    }
   ],
   "source": [
    "height_temp_18"
   ]
  },
  {
   "cell_type": "code",
   "execution_count": 407,
   "metadata": {},
   "outputs": [
    {
     "name": "stderr",
     "output_type": "stream",
     "text": [
      "C:\\Users\\mahsa\\Documents\\anaconda3\\envs\\python_environment_2\\lib\\site-packages\\pandas\\core\\indexing.py:1732: SettingWithCopyWarning: \n",
      "A value is trying to be set on a copy of a slice from a DataFrame\n",
      "\n",
      "See the caveats in the documentation: https://pandas.pydata.org/pandas-docs/stable/user_guide/indexing.html#returning-a-view-versus-a-copy\n",
      "  self._setitem_single_block(indexer, value, name)\n"
     ]
    },
    {
     "data": {
      "text/html": [
       "<div>\n",
       "<style scoped>\n",
       "    .dataframe tbody tr th:only-of-type {\n",
       "        vertical-align: middle;\n",
       "    }\n",
       "\n",
       "    .dataframe tbody tr th {\n",
       "        vertical-align: top;\n",
       "    }\n",
       "\n",
       "    .dataframe thead th {\n",
       "        text-align: right;\n",
       "    }\n",
       "</style>\n",
       "<table border=\"1\" class=\"dataframe\">\n",
       "  <thead>\n",
       "    <tr style=\"text-align: right;\">\n",
       "      <th></th>\n",
       "      <th>Month</th>\n",
       "      <th>failure_count</th>\n",
       "    </tr>\n",
       "  </thead>\n",
       "  <tbody>\n",
       "    <tr>\n",
       "      <th>0</th>\n",
       "      <td>Jan</td>\n",
       "      <td>34.0</td>\n",
       "    </tr>\n",
       "    <tr>\n",
       "      <th>1</th>\n",
       "      <td>Feb</td>\n",
       "      <td>18.0</td>\n",
       "    </tr>\n",
       "    <tr>\n",
       "      <th>2</th>\n",
       "      <td>Mar</td>\n",
       "      <td>48.0</td>\n",
       "    </tr>\n",
       "    <tr>\n",
       "      <th>3</th>\n",
       "      <td>Apr</td>\n",
       "      <td>9.0</td>\n",
       "    </tr>\n",
       "    <tr>\n",
       "      <th>4</th>\n",
       "      <td>May</td>\n",
       "      <td>4.0</td>\n",
       "    </tr>\n",
       "    <tr>\n",
       "      <th>5</th>\n",
       "      <td>Jun</td>\n",
       "      <td>1.0</td>\n",
       "    </tr>\n",
       "    <tr>\n",
       "      <th>6</th>\n",
       "      <td>Jul</td>\n",
       "      <td>NaN</td>\n",
       "    </tr>\n",
       "    <tr>\n",
       "      <th>7</th>\n",
       "      <td>Aug</td>\n",
       "      <td>NaN</td>\n",
       "    </tr>\n",
       "    <tr>\n",
       "      <th>8</th>\n",
       "      <td>Sep</td>\n",
       "      <td>NaN</td>\n",
       "    </tr>\n",
       "    <tr>\n",
       "      <th>9</th>\n",
       "      <td>Oct</td>\n",
       "      <td>NaN</td>\n",
       "    </tr>\n",
       "    <tr>\n",
       "      <th>10</th>\n",
       "      <td>Nov</td>\n",
       "      <td>NaN</td>\n",
       "    </tr>\n",
       "    <tr>\n",
       "      <th>11</th>\n",
       "      <td>Dec</td>\n",
       "      <td>NaN</td>\n",
       "    </tr>\n",
       "  </tbody>\n",
       "</table>\n",
       "</div>"
      ],
      "text/plain": [
       "   Month  failure_count\n",
       "0    Jan           34.0\n",
       "1    Feb           18.0\n",
       "2    Mar           48.0\n",
       "3    Apr            9.0\n",
       "4    May            4.0\n",
       "5    Jun            1.0\n",
       "6    Jul            NaN\n",
       "7    Aug            NaN\n",
       "8    Sep            NaN\n",
       "9    Oct            NaN\n",
       "10   Nov            NaN\n",
       "11   Dec            NaN"
      ]
     },
     "execution_count": 407,
     "metadata": {},
     "output_type": "execute_result"
    }
   ],
   "source": [
    "df_monthly_count[\"Month\"] = ['Jan','Feb','Mar','Apr', 'May', 'Jun', 'Jul', 'Aug', 'Sep', 'Oct', 'Nov', 'Dec']\n",
    "df_monthly_count[\"failure_count\"] = np.NaN \n",
    "series_month_count = temp_df.groupby(pd.Grouper(key='event_start_time',freq='M'))['vendor'].count()\n",
    "# series_month_count  # this is a series and not a data frame\n",
    "\n",
    "i = 0 \n",
    "\n",
    "while (i < series_month_count.size):\n",
    "    df_monthly_count[\"failure_count\"].loc[i] = series_month_count[i]\n",
    "\n",
    "    i = i + 1\n",
    "\n",
    "df_monthly_count"
   ]
  },
  {
   "cell_type": "code",
   "execution_count": 408,
   "metadata": {},
   "outputs": [],
   "source": [
    "# some_df = temp_2020.groupby(['event_start_time', 'vendor'])['vendor'].count().unstack()  # working\n",
    "# some_df"
   ]
  },
  {
   "cell_type": "code",
   "execution_count": 409,
   "metadata": {
    "tags": []
   },
   "outputs": [
    {
     "name": "stdout",
     "output_type": "stream",
     "text": [
      "Total rows =  114\n",
      "len df_aws_only =  38\n",
      "len df_azure_only =  17\n",
      "len df_gcp_only =  59\n",
      "Check total rows =  114\n"
     ]
    }
   ],
   "source": [
    "df_aws_only_2020, df_azure_only_2020, df_gcp_only_2020  = seperate_vendor_from_all_data(temp_2020) # working\n",
    "# df_aws_only_2020.head()"
   ]
  },
  {
   "cell_type": "code",
   "execution_count": 410,
   "metadata": {
    "tags": []
   },
   "outputs": [
    {
     "name": "stdout",
     "output_type": "stream",
     "text": [
      "Total rows =  114\n",
      "len df_aws_only =  38\n",
      "len df_azure_only =  17\n",
      "len df_gcp_only =  59\n",
      "Check total rows =  114\n",
      "Total rows =  114\n",
      "len df_aws_only =  38\n",
      "len df_azure_only =  17\n",
      "len df_gcp_only =  59\n",
      "Check total rows =  114\n",
      "Total rows =  114\n",
      "len df_aws_only =  38\n",
      "len df_azure_only =  17\n",
      "len df_gcp_only =  59\n",
      "Check total rows =  114\n"
     ]
    },
    {
     "name": "stderr",
     "output_type": "stream",
     "text": [
      "C:\\Users\\mahsa\\Documents\\anaconda3\\envs\\python_environment_2\\lib\\site-packages\\pandas\\core\\indexing.py:1732: SettingWithCopyWarning: \n",
      "A value is trying to be set on a copy of a slice from a DataFrame\n",
      "\n",
      "See the caveats in the documentation: https://pandas.pydata.org/pandas-docs/stable/user_guide/indexing.html#returning-a-view-versus-a-copy\n",
      "  self._setitem_single_block(indexer, value, name)\n"
     ]
    }
   ],
   "source": [
    "df_aws_only_2020, df_azure_only_2020, df_gcp_only_2020  = seperate_vendor_from_all_data(temp_2020)\n",
    "df_aws_only_2019, df_azure_only_2019, df_gcp_only_2019  = seperate_vendor_from_all_data(temp_2019)\n",
    "df_aws_only_2018, df_azure_only_2018, df_gcp_only_2018  = seperate_vendor_from_all_data(temp_2018)\n",
    "\n",
    "df_aws_only_monthly_2020 = monthly_data(df_aws_only_2020)\n",
    "df_azure_only_monthly_2020 = monthly_data(df_azure_only_2020)\n",
    "df_gcp_only_monthly_2020 = monthly_data(df_gcp_only_2020)\n",
    "\n",
    "df_aws_only_monthly_2019 = monthly_data(df_aws_only_2019)\n",
    "df_azure_only_monthly_2019 = monthly_data(df_azure_only_2019)\n",
    "df_gcp_only_monthly_2019 = monthly_data(df_gcp_only_2019)\n",
    "\n",
    "df_aws_only_monthly_2018 = monthly_data(df_aws_only_2018)\n",
    "df_azure_only_monthly_2018 = monthly_data(df_azure_only_2018)\n",
    "df_gcp_only_monthly_2018 = monthly_data(df_gcp_only_2018)\n",
    "\n",
    "df_2020_monthly = monthly_data(temp_2020)\n",
    "df_2019_monthly = monthly_data(temp_2019)\n",
    "df_2018_monthly = monthly_data(temp_2018)"
   ]
  },
  {
   "cell_type": "code",
   "execution_count": 411,
   "metadata": {},
   "outputs": [
    {
     "data": {
      "text/html": [
       "<div>\n",
       "<style scoped>\n",
       "    .dataframe tbody tr th:only-of-type {\n",
       "        vertical-align: middle;\n",
       "    }\n",
       "\n",
       "    .dataframe tbody tr th {\n",
       "        vertical-align: top;\n",
       "    }\n",
       "\n",
       "    .dataframe thead th {\n",
       "        text-align: right;\n",
       "    }\n",
       "</style>\n",
       "<table border=\"1\" class=\"dataframe\">\n",
       "  <thead>\n",
       "    <tr style=\"text-align: right;\">\n",
       "      <th></th>\n",
       "      <th>Month</th>\n",
       "      <th>failure_count</th>\n",
       "    </tr>\n",
       "  </thead>\n",
       "  <tbody>\n",
       "    <tr>\n",
       "      <th>0</th>\n",
       "      <td>Jan</td>\n",
       "      <td>16.0</td>\n",
       "    </tr>\n",
       "    <tr>\n",
       "      <th>1</th>\n",
       "      <td>Feb</td>\n",
       "      <td>4.0</td>\n",
       "    </tr>\n",
       "    <tr>\n",
       "      <th>2</th>\n",
       "      <td>Mar</td>\n",
       "      <td>9.0</td>\n",
       "    </tr>\n",
       "    <tr>\n",
       "      <th>3</th>\n",
       "      <td>Apr</td>\n",
       "      <td>5.0</td>\n",
       "    </tr>\n",
       "    <tr>\n",
       "      <th>4</th>\n",
       "      <td>May</td>\n",
       "      <td>4.0</td>\n",
       "    </tr>\n",
       "    <tr>\n",
       "      <th>5</th>\n",
       "      <td>Jun</td>\n",
       "      <td>NaN</td>\n",
       "    </tr>\n",
       "    <tr>\n",
       "      <th>6</th>\n",
       "      <td>Jul</td>\n",
       "      <td>NaN</td>\n",
       "    </tr>\n",
       "    <tr>\n",
       "      <th>7</th>\n",
       "      <td>Aug</td>\n",
       "      <td>NaN</td>\n",
       "    </tr>\n",
       "    <tr>\n",
       "      <th>8</th>\n",
       "      <td>Sep</td>\n",
       "      <td>NaN</td>\n",
       "    </tr>\n",
       "    <tr>\n",
       "      <th>9</th>\n",
       "      <td>Oct</td>\n",
       "      <td>NaN</td>\n",
       "    </tr>\n",
       "    <tr>\n",
       "      <th>10</th>\n",
       "      <td>Nov</td>\n",
       "      <td>NaN</td>\n",
       "    </tr>\n",
       "    <tr>\n",
       "      <th>11</th>\n",
       "      <td>Dec</td>\n",
       "      <td>NaN</td>\n",
       "    </tr>\n",
       "  </tbody>\n",
       "</table>\n",
       "</div>"
      ],
      "text/plain": [
       "   Month  failure_count\n",
       "0    Jan           16.0\n",
       "1    Feb            4.0\n",
       "2    Mar            9.0\n",
       "3    Apr            5.0\n",
       "4    May            4.0\n",
       "5    Jun            NaN\n",
       "6    Jul            NaN\n",
       "7    Aug            NaN\n",
       "8    Sep            NaN\n",
       "9    Oct            NaN\n",
       "10   Nov            NaN\n",
       "11   Dec            NaN"
      ]
     },
     "execution_count": 411,
     "metadata": {},
     "output_type": "execute_result"
    }
   ],
   "source": [
    "df_aws_only_monthly_2020"
   ]
  },
  {
   "cell_type": "code",
   "execution_count": 446,
   "metadata": {},
   "outputs": [
    {
     "data": {
      "image/png": "[encoded data removed]",
      "text/plain": [
       "<Figure size 720x432 with 1 Axes>"
      ]
     },
     "metadata": {},
     "output_type": "display_data"
    }
   ],
   "source": [
    "plt.hist(weights= ([df_2018_monthly.failure_count, df_2019_monthly.failure_count, df_2020_monthly.failure_count]), x = ([df_aws_only_monthly_2018.Month, df_aws_only_monthly_2019.Month, df_aws_only_monthly_2020.Month ]) , align = 'mid', rwidth= 20, bins = 25, )\n",
    "\n",
    "# plt.xticks(df_aws_only_monthly_2020.Month)\n",
    "plt.grid(axis='x', b=False) # donot show x axis grid     # ['Azure', 'AWS', 'GCP'] [h1_2020, h2_2020, h3_2020]\n",
    "\n",
    "plt.xlabel('Months', labelpad= 6)\n",
    "plt.ylabel('Number of Failures')\n",
    "# plt.title('Year vs Failure count', fontdict={'fontsize': 15, 'fontweight': 'medium'})\n",
    "plt.legend(['2018', '2019', '2020'], loc= 'best')\n",
    "\n",
    "#plt.rcParams[\"figure.figsize\"] = [8,8]\n",
    "\n",
    "plt.savefig('monthly_data_4.pdf', bbox_inches='tight')\n",
    "\n",
    "plt.show()"
   ]
  },
  {
   "cell_type": "code",
   "execution_count": 413,
   "metadata": {},
   "outputs": [
    {
     "data": {
      "image/png": "[encoded data removed]",
      "text/plain": [
       "<Figure size 720x432 with 1 Axes>"
      ]
     },
     "metadata": {},
     "output_type": "display_data"
    }
   ],
   "source": [
    "plt.hist(weights= ([df_2018_monthly.failure_count, df_2019_monthly.failure_count, df_2020_monthly.failure_count]), x = ([df_aws_only_monthly_2018.Month, df_aws_only_monthly_2019.Month, df_aws_only_monthly_2020.Month ]) , align = 'mid', rwidth= 20, bins = 25, )\n",
    "\n",
    "# plt.xticks(df_aws_only_monthly_2020.Month)\n",
    "plt.grid(axis='x', b=False) # donot show x axis grid     # ['Azure', 'AWS', 'GCP'] [h1_2020, h2_2020, h3_2020]\n",
    "\n",
    "plt.xlabel('Provider (2018 - 2020)', labelpad= 6)\n",
    "plt.ylabel('Number of Failures')\n",
    "plt.title('Failure count vs providor graph', fontdict={'fontsize': 15, 'fontweight': 'medium'})\n",
    "plt.legend(['2018', '2019', '2020'], loc= 'best')\n",
    "\n",
    "# plt.rcParams[\"figure.figsize\"] = [16,20]\n",
    "\n",
    "plt.show()"
   ]
  },
  {
   "cell_type": "code",
   "execution_count": 414,
   "metadata": {},
   "outputs": [
    {
     "data": {
      "image/png": "[encoded data removed]",
      "text/plain": [
       "<Figure size 720x432 with 1 Axes>"
      ]
     },
     "metadata": {},
     "output_type": "display_data"
    }
   ],
   "source": [
    "plt.hist(weights= ([df_2018_monthly.failure_count, df_2019_monthly.failure_count, df_2020_monthly.failure_count]), x = ([df_aws_only_monthly_2018.Month, df_aws_only_monthly_2019.Month, df_aws_only_monthly_2020.Month ]) , align = 'mid', rwidth= 20, bins = 25)\n",
    "\n",
    "# plt.xticks(df_aws_only_monthly_2020.Month)\n",
    "\n",
    "plt.xlabel('Provider (2018 - 2020)', labelpad= 6)\n",
    "plt.ylabel('Number of Failures')\n",
    "plt.title('Failure count vs providor graph', fontdict={'fontsize': 15, 'fontweight': 'medium'})\n",
    "plt.legend(['2018', '2019', '2020'], loc= 'best')\n",
    "\n",
    "plt.show()"
   ]
  },
  {
   "cell_type": "code",
   "execution_count": 415,
   "metadata": {},
   "outputs": [
    {
     "data": {
      "image/png": "[encoded data removed]",
      "text/plain": [
       "<Figure size 720x432 with 1 Axes>"
      ]
     },
     "metadata": {},
     "output_type": "display_data"
    }
   ],
   "source": [
    "plt.hist(weights= ([df_aws_only_monthly_2018.failure_count, df_aws_only_monthly_2019.failure_count, df_aws_only_monthly_2020.failure_count]), x = ([df_aws_only_monthly_2018.Month, df_aws_only_monthly_2019.Month, df_aws_only_monthly_2020.Month ]) , align = 'mid', rwidth= 20, bins = 25)\n",
    "\n",
    "# plt.xticks(df_aws_only_monthly_2020.Month)\n",
    "\n",
    "plt.xlabel('Provider (2018 - 2020)', labelpad= 6)\n",
    "plt.ylabel('Number of Failures')\n",
    "plt.title('Failure count vs providor graph', fontdict={'fontsize': 15, 'fontweight': 'medium'})\n",
    "plt.legend(['2018', '2019', '2020'], loc= 'right')\n",
    "\n",
    "plt.show()"
   ]
  },
  {
   "cell_type": "code",
   "execution_count": 416,
   "metadata": {},
   "outputs": [
    {
     "data": {
      "image/png": "[encoded data removed]",
      "text/plain": [
       "<Figure size 720x432 with 1 Axes>"
      ]
     },
     "metadata": {},
     "output_type": "display_data"
    }
   ],
   "source": [
    "plt.hist(weights= ([df_aws_only_monthly_2018.failure_count, df_aws_only_monthly_2019.failure_count, df_aws_only_monthly_2020.failure_count]), x = ([df_aws_only_monthly_2018.Month, df_aws_only_monthly_2019.Month, df_aws_only_monthly_2020.Month ]) , align = 'mid', rwidth= 20)\n",
    "\n",
    "plt.xticks(df_aws_only_monthly_2020.Month)\n",
    "\n",
    "# plt.figure(figsize=(20, 4))\n",
    "plt.yscale('linear')\n",
    "\n",
    "plt.show()"
   ]
  },
  {
   "cell_type": "code",
   "execution_count": 417,
   "metadata": {},
   "outputs": [
    {
     "data": {
      "image/png": "[encoded data removed]",
      "text/plain": [
       "<Figure size 720x432 with 1 Axes>"
      ]
     },
     "metadata": {},
     "output_type": "display_data"
    }
   ],
   "source": [
    "plt.hist(weights= df_aws_only_monthly_2020.failure_count, x = df_aws_only_monthly_2020.Month  , align = 'mid', rwidth= 20)\n",
    "plt.xticks(df_aws_only_monthly_2020.Month)\n",
    "\n",
    "# plt.figure(figsize=(20, 4))\n",
    "\n",
    "plt.show()"
   ]
  },
  {
   "cell_type": "code",
   "execution_count": null,
   "metadata": {},
   "outputs": [],
   "source": []
  },
  {
   "cell_type": "code",
   "execution_count": 418,
   "metadata": {},
   "outputs": [
    {
     "name": "stderr",
     "output_type": "stream",
     "text": [
      "C:\\Users\\mahsa\\Documents\\anaconda3\\envs\\python_environment_2\\lib\\site-packages\\pandas\\core\\indexing.py:1732: SettingWithCopyWarning: \n",
      "A value is trying to be set on a copy of a slice from a DataFrame\n",
      "\n",
      "See the caveats in the documentation: https://pandas.pydata.org/pandas-docs/stable/user_guide/indexing.html#returning-a-view-versus-a-copy\n",
      "  self._setitem_single_block(indexer, value, name)\n"
     ]
    },
    {
     "data": {
      "text/plain": [
       "<matplotlib.legend.Legend at 0x205bd1a7e88>"
      ]
     },
     "execution_count": 418,
     "metadata": {},
     "output_type": "execute_result"
    },
    {
     "data": {
      "image/png": "[encoded data removed]",
      "text/plain": [
       "<Figure size 720x432 with 1 Axes>"
      ]
     },
     "metadata": {},
     "output_type": "display_data"
    }
   ],
   "source": [
    "monthly_failure_count_2020 = monthly_data(temp_2020)\n",
    "monthly_failure_count_2019 = monthly_data(temp_2019)\n",
    "monthly_failure_count_2018 = monthly_data(temp_2018)\n",
    "\n",
    "# plot\n",
    "plt.hist( x = (['Azure', 'AWS', 'GCP'], ['Azure', 'AWS', 'GCP'], ['Azure', 'AWS', 'GCP'] ) ,  weights= ([int(h1_2018) , int(h2_2018), int(h3_2018)], [int(h1_2019), int(h2_2019), int(h3_2019)], [int(h1_2020), int(h2_2020), int(h3_2020) ]), color = ['grey','purple','orange'] , align = 'mid', rwidth= 20 )\n",
    "\n",
    "# data = [df_aws_only.vendor, df_azure_only, df_gcp_only ] \n",
    "\n",
    "plt.grid(axis='x', b=False) # donot show x axis grid     # ['Azure', 'AWS', 'GCP'] [h1_2020, h2_2020, h3_2020]\n",
    "\n",
    "plt.xlabel('Provider (2018 - 2020)', labelpad= 6)\n",
    "plt.ylabel('Number of Failures')\n",
    "plt.title('Failure count vs providor graph', fontdict={'fontsize': 15, 'fontweight': 'medium'})\n",
    "plt.legend(['2018', '2019', '2020'], loc= 'best')"
   ]
  },
  {
   "cell_type": "code",
   "execution_count": null,
   "metadata": {
    "pycharm": {
     "is_executing": false
    }
   },
   "outputs": [],
   "source": []
  },
  {
   "cell_type": "code",
   "execution_count": 419,
   "metadata": {
    "pycharm": {
     "is_executing": false
    }
   },
   "outputs": [
    {
     "data": {
      "text/plain": [
       "(array([[2., 0., 0., 0., 0., 8., 0., 0., 0., 1.],\n",
       "        [4., 0., 0., 0., 0., 4., 0., 0., 0., 5.],\n",
       "        [2., 0., 0., 0., 0., 4., 0., 0., 0., 5.]]),\n",
       " array([0. , 0.2, 0.4, 0.6, 0.8, 1. , 1.2, 1.4, 1.6, 1.8, 2. ]),\n",
       " <a list of 3 BarContainer objects>)"
      ]
     },
     "execution_count": 419,
     "metadata": {},
     "output_type": "execute_result"
    },
    {
     "data": {
      "image/png": "[encoded data removed]",
      "text/plain": [
       "<Figure size 720x432 with 1 Axes>"
      ]
     },
     "metadata": {},
     "output_type": "display_data"
    }
   ],
   "source": [
    "\n",
    "plt.hist( x = (['AWS', 'Azure', 'GCP'], ['AWS', 'Azure', 'GCP'], ['AWS', 'Azure', 'GCP']) , data = ([df_aws_only.vendor], [df_azure_only], [df_gcp_only] ),  weights= ([2,8,1], [4,4,5], [2,4,5]))\n",
    "# plt.xlabel('2020                    2019                2018')\n",
    "# plt.xlabel('2020',)"
   ]
  },
  {
   "cell_type": "code",
   "execution_count": 420,
   "metadata": {
    "pycharm": {
     "is_executing": false
    }
   },
   "outputs": [
    {
     "data": {
      "text/plain": [
       "Text(0.5, 0, '2020          2019                2018')"
      ]
     },
     "execution_count": 420,
     "metadata": {},
     "output_type": "execute_result"
    },
    {
     "data": {
      "image/png": "[encoded data removed]",
      "text/plain": [
       "<Figure size 720x432 with 1 Axes>"
      ]
     },
     "metadata": {},
     "output_type": "display_data"
    }
   ],
   "source": [
    "plt.hist( x = (['AWS1', 'Azure1', 'GCP1'], ['AWS2', 'Azure2', 'GCP2'], ['AWS3', 'Azure3', 'GCP3']) , data = ([df_aws_only.vendor], [df_azure_only], [df_gcp_only] ),  weights= ([2,4,5], [2,4,5], [2,4,5]))\n",
    "plt.xlabel('2020          2019                2018')"
   ]
  },
  {
   "cell_type": "code",
   "execution_count": null,
   "metadata": {
    "pycharm": {
     "is_executing": false
    }
   },
   "outputs": [],
   "source": []
  },
  {
   "cell_type": "code",
   "execution_count": 421,
   "metadata": {
    "pycharm": {
     "is_executing": false
    },
    "tags": []
   },
   "outputs": [],
   "source": [
    "# filling blanks is done above \n",
    "\n",
    "# temp_df['location'] = temp_df['location'].fillna('Unknown')\n",
    "# print(\"filled empty location cell\")\n",
    "\n",
    "# temp_df.to_csv(\"2020_only.csv\")"
   ]
  },
  {
   "cell_type": "code",
   "execution_count": null,
   "metadata": {
    "pycharm": {
     "is_executing": false
    }
   },
   "outputs": [],
   "source": []
  },
  {
   "cell_type": "code",
   "execution_count": 422,
   "metadata": {
    "pycharm": {
     "is_executing": false
    },
    "tags": []
   },
   "outputs": [
    {
     "data": {
      "text/plain": [
       "Text(0.5, 1.0, 'AWS status graph')"
      ]
     },
     "execution_count": 422,
     "metadata": {},
     "output_type": "execute_result"
    },
    {
     "data": {
      "image/png": "[encoded data removed]",
      "text/plain": [
       "<Figure size 720x432 with 1 Axes>"
      ]
     },
     "metadata": {},
     "output_type": "display_data"
    }
   ],
   "source": [
    "# status 2020 aws\n",
    "status_col_index = df_aws_only.columns.get_loc('status')\n",
    "df_aws_status = count_unique(df_aws_only, status_col_index).sort_values(by='frequency', ascending=True)\n",
    "\n",
    "plt.bar(x= df_aws_status.names, height= df_aws_status.frequency, color = ['blue', 'orange', 'green'])\n",
    "plt.xticks([1,2,3])\n",
    "plt.yticks([0,20,40,60,80,100,120])\n",
    "\n",
    "plt.grid(axis='x', b=False) # donot show x axis grid     # ['Azure', 'AWS', 'GCP'] [h1_2020, h2_2020, h3_2020]\n",
    "\n",
    "plt.xlabel('Status value', labelpad= 2)\n",
    "plt.ylabel('Frequency')\n",
    "plt.title('AWS status graph', fontdict={'fontsize': 15, 'fontweight': 'medium'})"
   ]
  },
  {
   "cell_type": "code",
   "execution_count": 423,
   "metadata": {
    "pycharm": {
     "is_executing": false
    }
   },
   "outputs": [],
   "source": [
    "# make one plot at at time\n",
    "\n",
    "# sns.countplot(x = 'status' , data = df_aws_only)\n",
    "\n",
    "# sns.countplot(x = 'status' , data = df_azure_only, )\n",
    "\n",
    "# sns.countplot(x = 'status' , data = df_gcp_only, )\n"
   ]
  },
  {
   "cell_type": "code",
   "execution_count": 424,
   "metadata": {
    "pycharm": {
     "is_executing": false
    }
   },
   "outputs": [
    {
     "data": {
      "text/plain": [
       "<AxesSubplot:xlabel='status', ylabel='count'>"
      ]
     },
     "execution_count": 424,
     "metadata": {},
     "output_type": "execute_result"
    },
    {
     "data": {
      "image/png": "[encoded data removed]",
      "text/plain": [
       "<Figure size 720x432 with 1 Axes>"
      ]
     },
     "metadata": {},
     "output_type": "display_data"
    }
   ],
   "source": [
    "sns.countplot(x = 'status' , data = df_aws_only)         #  palette=\"Set2\""
   ]
  },
  {
   "cell_type": "code",
   "execution_count": 425,
   "metadata": {
    "pycharm": {
     "is_executing": false
    }
   },
   "outputs": [
    {
     "data": {
      "text/plain": [
       "<AxesSubplot:xlabel='status', ylabel='count'>"
      ]
     },
     "execution_count": 425,
     "metadata": {},
     "output_type": "execute_result"
    },
    {
     "data": {
      "image/png": "[encoded data removed]",
      "text/plain": [
       "<Figure size 720x432 with 1 Axes>"
      ]
     },
     "metadata": {},
     "output_type": "display_data"
    }
   ],
   "source": [
    "sns.countplot(x = 'status' , data = df_azure_only )"
   ]
  },
  {
   "cell_type": "code",
   "execution_count": 426,
   "metadata": {
    "pycharm": {
     "is_executing": false
    }
   },
   "outputs": [
    {
     "data": {
      "text/plain": [
       "<AxesSubplot:xlabel='status', ylabel='count'>"
      ]
     },
     "execution_count": 426,
     "metadata": {},
     "output_type": "execute_result"
    },
    {
     "data": {
      "image/png": "[encoded data removed]",
      "text/plain": [
       "<Figure size 720x432 with 1 Axes>"
      ]
     },
     "metadata": {},
     "output_type": "display_data"
    }
   ],
   "source": [
    "sns.countplot(x = 'status' , data = df_gcp_only)"
   ]
  },
  {
   "cell_type": "code",
   "execution_count": null,
   "metadata": {
    "pycharm": {
     "is_executing": false
    }
   },
   "outputs": [],
   "source": []
  },
  {
   "cell_type": "code",
   "execution_count": 427,
   "metadata": {
    "pycharm": {
     "is_executing": false
    }
   },
   "outputs": [
    {
     "data": {
      "image/png": "[encoded data removed]",
      "text/plain": [
       "<Figure size 720x432 with 1 Axes>"
      ]
     },
     "metadata": {},
     "output_type": "display_data"
    }
   ],
   "source": [
    "count_vendor_plot = sns.countplot(x = 'vendor', data = temp_df)\n",
    "\n",
    "# count_vendor_plot.figure.savefig('2020_count_vendor_plot.png')"
   ]
  },
  {
   "cell_type": "code",
   "execution_count": 428,
   "metadata": {
    "pycharm": {
     "is_executing": false
    }
   },
   "outputs": [
    {
     "data": {
      "text/plain": [
       "<AxesSubplot:>"
      ]
     },
     "execution_count": 428,
     "metadata": {},
     "output_type": "execute_result"
    },
    {
     "data": {
      "image/png": "[encoded data removed]",
      "text/plain": [
       "<Figure size 360x720 with 1 Axes>"
      ]
     },
     "metadata": {},
     "output_type": "display_data"
    }
   ],
   "source": [
    "fig = plt.figure(figsize=(5, 10))\n",
    "temp_df['location'].value_counts().plot(kind='barh')# .figure.savefig('2018_count_location_plot_2.png',  bbox_inches='tight')"
   ]
  },
  {
   "cell_type": "code",
   "execution_count": 429,
   "metadata": {
    "pycharm": {
     "is_executing": false
    }
   },
   "outputs": [
    {
     "data": {
      "text/plain": [
       "unknown                59\n",
       "Multi-region           22\n",
       "N. Virginia            10\n",
       "Sydney                  8\n",
       "Oregon                  3\n",
       "N. California           2\n",
       "Paris                   2\n",
       "US-West                 2\n",
       "East US                 1\n",
       "Ireland                 1\n",
       "Mumbai                  1\n",
       "South Central US        1\n",
       "US Government Cloud     1\n",
       "West Central US         1\n",
       "Name: location, dtype: int64"
      ]
     },
     "execution_count": 429,
     "metadata": {},
     "output_type": "execute_result"
    }
   ],
   "source": [
    "temp_df['location'].value_counts()"
   ]
  },
  {
   "cell_type": "code",
   "execution_count": 430,
   "metadata": {
    "pycharm": {
     "is_executing": false
    }
   },
   "outputs": [],
   "source": [
    "# temp_df.vendor.hist(cumulative=True, density=1, bins=100)"
   ]
  },
  {
   "cell_type": "code",
   "execution_count": 431,
   "metadata": {
    "pycharm": {
     "is_executing": false
    }
   },
   "outputs": [],
   "source": [
    "# add empty NAN column at a specific position\n",
    "h1_df = temp_df\n",
    "\n",
    "h1_df['h1'] = np.nan\n",
    "\n",
    "h1_df = h1_df[['service_id', 'service_name', 'location', 'status', 'event_start_time', 'event_end_time', 'h1', 'first_notification', 'last_notification', 'description', 'vendor', 'monitor', 'org_type']]\n",
    "\n",
    "# 'service_id', 'service_name', 'location', 'status', 'event_start_time', 'event_end_time', 'first_notification', 'last_notification', 'description', 'vendor', 'monitor', 'org_type'"
   ]
  },
  {
   "cell_type": "code",
   "execution_count": 432,
   "metadata": {
    "pycharm": {
     "is_executing": false
    }
   },
   "outputs": [],
   "source": [
    "# h1_df.head()"
   ]
  },
  {
   "cell_type": "code",
   "execution_count": null,
   "metadata": {
    "pycharm": {
     "is_executing": false
    }
   },
   "outputs": [],
   "source": []
  },
  {
   "cell_type": "code",
   "execution_count": 433,
   "metadata": {
    "pycharm": {
     "is_executing": false
    }
   },
   "outputs": [],
   "source": [
    "import datetime as dt\n",
    "# h1_df.h1 = h1_df.h1.astype(dt.timedelta).map(lambda x: np.nan if pd.isnull(x) else x.days)"
   ]
  },
  {
   "cell_type": "code",
   "execution_count": 434,
   "metadata": {
    "pycharm": {
     "is_executing": false
    }
   },
   "outputs": [
    {
     "name": "stderr",
     "output_type": "stream",
     "text": [
      "C:\\Users\\mahsa\\Documents\\anaconda3\\envs\\python_environment_2\\lib\\site-packages\\pandas\\core\\generic.py:5516: SettingWithCopyWarning: \n",
      "A value is trying to be set on a copy of a slice from a DataFrame.\n",
      "Try using .loc[row_indexer,col_indexer] = value instead\n",
      "\n",
      "See the caveats in the documentation: https://pandas.pydata.org/pandas-docs/stable/user_guide/indexing.html#returning-a-view-versus-a-copy\n",
      "  self[name] = value\n"
     ]
    }
   ],
   "source": [
    "h1_df.h1 = ( h1_df.event_end_time - h1_df.event_start_time )"
   ]
  },
  {
   "cell_type": "code",
   "execution_count": 435,
   "metadata": {
    "pycharm": {
     "is_executing": false
    }
   },
   "outputs": [
    {
     "data": {
      "text/plain": [
       "dtype('<m8[ns]')"
      ]
     },
     "execution_count": 435,
     "metadata": {},
     "output_type": "execute_result"
    }
   ],
   "source": [
    "h1_df.h1.dtype"
   ]
  },
  {
   "cell_type": "code",
   "execution_count": 436,
   "metadata": {
    "pycharm": {
     "is_executing": false
    }
   },
   "outputs": [
    {
     "data": {
      "text/html": [
       "<div>\n",
       "<style scoped>\n",
       "    .dataframe tbody tr th:only-of-type {\n",
       "        vertical-align: middle;\n",
       "    }\n",
       "\n",
       "    .dataframe tbody tr th {\n",
       "        vertical-align: top;\n",
       "    }\n",
       "\n",
       "    .dataframe thead th {\n",
       "        text-align: right;\n",
       "    }\n",
       "</style>\n",
       "<table border=\"1\" class=\"dataframe\">\n",
       "  <thead>\n",
       "    <tr style=\"text-align: right;\">\n",
       "      <th></th>\n",
       "      <th>service_id</th>\n",
       "      <th>service_name</th>\n",
       "      <th>location</th>\n",
       "      <th>status</th>\n",
       "      <th>event_start_time</th>\n",
       "      <th>event_end_time</th>\n",
       "      <th>h1</th>\n",
       "      <th>first_notification</th>\n",
       "      <th>last_notification</th>\n",
       "      <th>description</th>\n",
       "      <th>vendor</th>\n",
       "      <th>monitor</th>\n",
       "      <th>org_type</th>\n",
       "    </tr>\n",
       "  </thead>\n",
       "  <tbody>\n",
       "    <tr>\n",
       "      <th>0</th>\n",
       "      <td>unknown</td>\n",
       "      <td>all</td>\n",
       "      <td>East US</td>\n",
       "      <td>-1</td>\n",
       "      <td>2020-03-03 15:30:00</td>\n",
       "      <td>2020-03-03 22:00:00</td>\n",
       "      <td>0 days 06:30:00</td>\n",
       "      <td>1969-12-31 23:59:59</td>\n",
       "      <td>1969-12-31 23:59:59</td>\n",
       "      <td>\\nRCA- Issues connecting to resources in East US (Tracking ID 9SS0-VT8)\\nSummary of Impact: Between 15:30 and 22:00 UTC on 03 March 2020, a subset of customers in East US may have experienced issues connecting to resources in this region. Root Cause: A malfunction in building automation control caused temperatures in multiple rooms of a data center in the East US region to spike impacting Storage, Compute, Networking and other dependent services. Although the cooling system has N+1 redundancy, the automation failure resulted in a significant reduction in cooling air flow. This caused a cascade of events which caused network devices to become unresponsive, VMs to shutdown, and some storage hardware to go offline. Mitigation: The malfunction in the building automation control was fixed by resetting the controllers for the cooling system. Due to the nature of the automation failure, each cooling unit had to be manually reset. By 16:00 UTC the cooling controller was back online and ambient temperatures and air flow had returned to normal ranges. Engineers then power cycled and restored failed server hardware in groups to restore services in the region. After recovery of the building and network infrastructure, engineers recovered storage hardware and compute VMs that did not recover automatically.  By 22:00 UTC, 99.999% of affected VMs were back up and running. Availability of all storage data was restored.Next steps: We sincerely apologize for the impact to affected customers. We are continuously taking steps to improve the Microsoft Azure Platform and our processes to help ensure such incidents do not occur in the future. In this case, this includes (but is not limited to):Review of the building automation control system responsible for this incident, mitigation of any issues if found, and application of the mitigation to other data centers with the same control systemReview of mechanical cooling system, mitigation of any issues if found, and application of the mitigation to other data centers with the same cooling system.Provide Feedback: Please help us improve the Azure customer communications experience by taking our survey https://aka.ms/9SS0-VT8\\n</td>\n",
       "      <td>Azure</td>\n",
       "      <td>Azure</td>\n",
       "      <td>cloud</td>\n",
       "    </tr>\n",
       "    <tr>\n",
       "      <th>1</th>\n",
       "      <td>lambda-eu-west-1</td>\n",
       "      <td>AWS Lambda</td>\n",
       "      <td>Ireland</td>\n",
       "      <td>1</td>\n",
       "      <td>2020-01-08 08:05:00</td>\n",
       "      <td>2020-01-08 09:20:00</td>\n",
       "      <td>0 days 01:15:00</td>\n",
       "      <td>2020-01-08 09:26:00</td>\n",
       "      <td>2020-01-08 09:26:00</td>\n",
       "      <td>5:26 PM PST \\nBetween 4:05 PM PST and 5:20 PM PST, customers using Lambda functions to process events from Kinesis Data Streams and DynamoDB Streams experienced significant delays in event processing for a subset of functions in the EU-WEST-1 Region. The issue has been resolved and the service is operating normally. The backlogged events will be processed by the function over the next few hours as per the retry policy on the event source mapping on the affected functions.</td>\n",
       "      <td>AWS</td>\n",
       "      <td>AWS</td>\n",
       "      <td>cloud</td>\n",
       "    </tr>\n",
       "    <tr>\n",
       "      <th>2</th>\n",
       "      <td>chime</td>\n",
       "      <td>Amazon Chime</td>\n",
       "      <td>Multi-region</td>\n",
       "      <td>2</td>\n",
       "      <td>2020-01-15 03:49:00</td>\n",
       "      <td>2020-01-15 07:08:00</td>\n",
       "      <td>0 days 03:19:00</td>\n",
       "      <td>2020-01-15 04:26:00</td>\n",
       "      <td>2020-01-15 07:11:00</td>\n",
       "      <td>12:26 PM PST \\nWe are currently investigating increased application faults and decreased availability for Amazon Chime.12:45 PM PST \\nWe have identified the root cause of the increased application faults and decreased availability for Amazon Chime. Customers who are already signed into the Chime Client are not advised to logout, or select the re-connection option. 1:36 PM PST \\nWe have identified the root cause of the increased application faults and decreased availability for Amazon Chime, and can confirm recovery for some users. Customers who are already signed into the Chime Client are not advised to logout, or select the re-connection option, as we continue to work towards resolution. 2:30 PM PST \\nWe have identified the root cause of the increased application faults and decreased availability for Amazon Chime, and can confirm recovery for audio meeting and chat features. We continue to work towards resolving decreased video conferencing availability. 3:11 PM PST \\nBetween 11:49 AM and 3:08 PM PST we experienced increased application faults and decreased availability for Amazon Chime. The issue has been resolved and the service is operating normally.</td>\n",
       "      <td>AWS</td>\n",
       "      <td>AWS</td>\n",
       "      <td>cloud</td>\n",
       "    </tr>\n",
       "    <tr>\n",
       "      <th>3</th>\n",
       "      <td>cloudfront</td>\n",
       "      <td>Amazon CloudFront</td>\n",
       "      <td>Multi-region</td>\n",
       "      <td>1</td>\n",
       "      <td>2020-01-29 13:12:00</td>\n",
       "      <td>2020-01-29 16:48:00</td>\n",
       "      <td>0 days 03:36:00</td>\n",
       "      <td>2020-01-30 15:59:00</td>\n",
       "      <td>2020-01-30 17:23:00</td>\n",
       "      <td>11:59 PM PST \\nWe are investigating longer than usual propagation times for changes to CloudFront configurations. End-user requests for content from our edge locations are not affected by this issue and are being served normally.Jan 30, 12:15 AM PST \\nWe have confirmed that we are seeing increased propagation times for changes to a few CloudFront edge locations. Majority of CloudFront edge locations are consuming configuration changes normally. End-user requests for content from our edge locations are not affected by this issue and are being served normally. Jan 30,  1:23 AM PST \\nBetween January 29 9:12 PM and January 30 12:48 AM PST we experienced delays in propagation times for changes to CloudFront configurations. During this time end-user requests for content from our edge locations were not affected. The issue has been resolved and the service is operating normally.</td>\n",
       "      <td>AWS</td>\n",
       "      <td>AWS</td>\n",
       "      <td>cloud</td>\n",
       "    </tr>\n",
       "    <tr>\n",
       "      <th>4</th>\n",
       "      <td>cloudfront</td>\n",
       "      <td>Amazon CloudFront</td>\n",
       "      <td>Multi-region</td>\n",
       "      <td>1</td>\n",
       "      <td>2020-02-13 05:10:00</td>\n",
       "      <td>2020-02-13 07:47:00</td>\n",
       "      <td>0 days 02:37:00</td>\n",
       "      <td>2020-02-13 08:17:00</td>\n",
       "      <td>2020-02-13 08:17:00</td>\n",
       "      <td>4:17 PM PST \\nBetween 1:10 PM and 3:47 PM PST we experienced periods of increased error rates when accessing the CloudFront Management Console. Customers may have received a 404 Response. Existing distributions and the CloudFront APIs were not impacted by this issue. The issue has been resolved and the CloudFront Management Console is operating normally.</td>\n",
       "      <td>AWS</td>\n",
       "      <td>AWS</td>\n",
       "      <td>cloud</td>\n",
       "    </tr>\n",
       "  </tbody>\n",
       "</table>\n",
       "</div>"
      ],
      "text/plain": [
       "         service_id       service_name      location  status  \\\n",
       "0           unknown                all       East US      -1   \n",
       "1  lambda-eu-west-1        AWS Lambda        Ireland       1   \n",
       "2             chime       Amazon Chime  Multi-region       2   \n",
       "3        cloudfront  Amazon CloudFront  Multi-region       1   \n",
       "4        cloudfront  Amazon CloudFront  Multi-region       1   \n",
       "\n",
       "     event_start_time      event_end_time              h1  first_notification  \\\n",
       "0 2020-03-03 15:30:00 2020-03-03 22:00:00 0 days 06:30:00 1969-12-31 23:59:59   \n",
       "1 2020-01-08 08:05:00 2020-01-08 09:20:00 0 days 01:15:00 2020-01-08 09:26:00   \n",
       "2 2020-01-15 03:49:00 2020-01-15 07:08:00 0 days 03:19:00 2020-01-15 04:26:00   \n",
       "3 2020-01-29 13:12:00 2020-01-29 16:48:00 0 days 03:36:00 2020-01-30 15:59:00   \n",
       "4 2020-02-13 05:10:00 2020-02-13 07:47:00 0 days 02:37:00 2020-02-13 08:17:00   \n",
       "\n",
       "    last_notification  \\\n",
       "0 1969-12-31 23:59:59   \n",
       "1 2020-01-08 09:26:00   \n",
       "2 2020-01-15 07:11:00   \n",
       "3 2020-01-30 17:23:00   \n",
       "4 2020-02-13 08:17:00   \n",
       "\n",
       "                                                                                                                                                                                                                                                                                                                                                                                                                                                                                                                                                                                                                                                                                                                                                                                                                                                                                                                                                                                                                                                                                                                                                                                                                                                                                                                                                                                                                                                                                                                                                                                                                                                                                                                                                                                                                                                                                                                                                                                                                                                                                                                                                                                                                                                                    description  \\\n",
       "0  \\nRCA- Issues connecting to resources in East US (Tracking ID 9SS0-VT8)\\nSummary of Impact: Between 15:30 and 22:00 UTC on 03 March 2020, a subset of customers in East US may have experienced issues connecting to resources in this region. Root Cause: A malfunction in building automation control caused temperatures in multiple rooms of a data center in the East US region to spike impacting Storage, Compute, Networking and other dependent services. Although the cooling system has N+1 redundancy, the automation failure resulted in a significant reduction in cooling air flow. This caused a cascade of events which caused network devices to become unresponsive, VMs to shutdown, and some storage hardware to go offline. Mitigation: The malfunction in the building automation control was fixed by resetting the controllers for the cooling system. Due to the nature of the automation failure, each cooling unit had to be manually reset. By 16:00 UTC the cooling controller was back online and ambient temperatures and air flow had returned to normal ranges. Engineers then power cycled and restored failed server hardware in groups to restore services in the region. After recovery of the building and network infrastructure, engineers recovered storage hardware and compute VMs that did not recover automatically.  By 22:00 UTC, 99.999% of affected VMs were back up and running. Availability of all storage data was restored.Next steps: We sincerely apologize for the impact to affected customers. We are continuously taking steps to improve the Microsoft Azure Platform and our processes to help ensure such incidents do not occur in the future. In this case, this includes (but is not limited to):Review of the building automation control system responsible for this incident, mitigation of any issues if found, and application of the mitigation to other data centers with the same control systemReview of mechanical cooling system, mitigation of any issues if found, and application of the mitigation to other data centers with the same cooling system.Provide Feedback: Please help us improve the Azure customer communications experience by taking our survey https://aka.ms/9SS0-VT8\\n   \n",
       "1                                                                                                                                                                                                                                                                                                                                                                                                                                                                                                                                                                                                                                                                                                                                                                                                                                                                                                                                                                                                                                                                                                                                                                                                                                                                                                                                                                                                                                                                                                                                                                                                                                                                                                                                                                                  5:26 PM PST \\nBetween 4:05 PM PST and 5:20 PM PST, customers using Lambda functions to process events from Kinesis Data Streams and DynamoDB Streams experienced significant delays in event processing for a subset of functions in the EU-WEST-1 Region. The issue has been resolved and the service is operating normally. The backlogged events will be processed by the function over the next few hours as per the retry policy on the event source mapping on the affected functions.   \n",
       "2                                                                                                                                                                                                                                                                                                                                                                                                                                                                                                                                                                                                                                                                                                                                                                                                                                                                                                                                                                                                                                                          12:26 PM PST \\nWe are currently investigating increased application faults and decreased availability for Amazon Chime.12:45 PM PST \\nWe have identified the root cause of the increased application faults and decreased availability for Amazon Chime. Customers who are already signed into the Chime Client are not advised to logout, or select the re-connection option. 1:36 PM PST \\nWe have identified the root cause of the increased application faults and decreased availability for Amazon Chime, and can confirm recovery for some users. Customers who are already signed into the Chime Client are not advised to logout, or select the re-connection option, as we continue to work towards resolution. 2:30 PM PST \\nWe have identified the root cause of the increased application faults and decreased availability for Amazon Chime, and can confirm recovery for audio meeting and chat features. We continue to work towards resolving decreased video conferencing availability. 3:11 PM PST \\nBetween 11:49 AM and 3:08 PM PST we experienced increased application faults and decreased availability for Amazon Chime. The issue has been resolved and the service is operating normally.   \n",
       "3                                                                                                                                                                                                                                                                                                                                                                                                                                                                                                                                                                                                                                                                                                                                                                                                                                                                                                                                                                                                                                                                                                                                                                                                                                                                                                                                                          11:59 PM PST \\nWe are investigating longer than usual propagation times for changes to CloudFront configurations. End-user requests for content from our edge locations are not affected by this issue and are being served normally.Jan 30, 12:15 AM PST \\nWe have confirmed that we are seeing increased propagation times for changes to a few CloudFront edge locations. Majority of CloudFront edge locations are consuming configuration changes normally. End-user requests for content from our edge locations are not affected by this issue and are being served normally. Jan 30,  1:23 AM PST \\nBetween January 29 9:12 PM and January 30 12:48 AM PST we experienced delays in propagation times for changes to CloudFront configurations. During this time end-user requests for content from our edge locations were not affected. The issue has been resolved and the service is operating normally.   \n",
       "4                                                                                                                                                                                                                                                                                                                                                                                                                                                                                                                                                                                                                                                                                                                                                                                                                                                                                                                                                                                                                                                                                                                                                                                                                                                                                                                                                                                                                                                                                                                                                                                                                                                                                                                                                                                                                                                                                                          4:17 PM PST \\nBetween 1:10 PM and 3:47 PM PST we experienced periods of increased error rates when accessing the CloudFront Management Console. Customers may have received a 404 Response. Existing distributions and the CloudFront APIs were not impacted by this issue. The issue has been resolved and the CloudFront Management Console is operating normally.   \n",
       "\n",
       "  vendor monitor org_type  \n",
       "0  Azure   Azure    cloud  \n",
       "1    AWS     AWS    cloud  \n",
       "2    AWS     AWS    cloud  \n",
       "3    AWS     AWS    cloud  \n",
       "4    AWS     AWS    cloud  "
      ]
     },
     "execution_count": 436,
     "metadata": {},
     "output_type": "execute_result"
    }
   ],
   "source": [
    "h1_df.head()"
   ]
  },
  {
   "cell_type": "code",
   "execution_count": null,
   "metadata": {
    "pycharm": {
     "is_executing": false
    }
   },
   "outputs": [],
   "source": []
  },
  {
   "cell_type": "code",
   "execution_count": null,
   "metadata": {
    "pycharm": {
     "is_executing": true
    }
   },
   "outputs": [],
   "source": []
  },
  {
   "cell_type": "code",
   "execution_count": null,
   "metadata": {
    "pycharm": {
     "is_executing": true
    }
   },
   "outputs": [],
   "source": []
  },
  {
   "cell_type": "code",
   "execution_count": null,
   "metadata": {
    "pycharm": {
     "is_executing": true
    }
   },
   "outputs": [],
   "source": []
  }
 ],
 "metadata": {
  "interpreter": {
   "hash": "550da87a892173589e97b703c60162a2f9db1337fa8b40266318d89fcb24de3b"
  },
  "kernelspec": {
   "display_name": "Python 3.7.6 64-bit ('base': conda)",
   "name": "python3"
  },
  "language_info": {
   "codemirror_mode": {
    "name": "ipython",
    "version": 3
   },
   "file_extension": ".py",
   "mimetype": "text/x-python",
   "name": "python",
   "nbconvert_exporter": "python",
   "pygments_lexer": "ipython3",
   "version": "3.7.6"
  },
  "pycharm": {
   "stem_cell": {
    "cell_type": "raw",
    "metadata": {
     "collapsed": false
    },
    "source": []
   }
  }
 },
 "nbformat": 4,
 "nbformat_minor": 4
}
